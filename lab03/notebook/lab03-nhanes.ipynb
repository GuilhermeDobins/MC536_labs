{
 "cells": [
  {
   "cell_type": "markdown",
   "metadata": {},
   "source": [
    "# National Health and Nutrition Examination Survey (NHANES)\n",
    "[https://wwwn.cdc.gov/nchs/nhanes/](https://wwwn.cdc.gov/nchs/nhanes/)\n",
    "\n",
    "Este laboratório usará dados extraídos do NHANES.\n",
    "\n",
    "## NHANES datasets from 2013-2014\n",
    "\n",
    "Foram extraídos dados do [NHANES 2013-2014](https://wwwn.cdc.gov/nchs/nhanes/continuousnhanes/default.aspx?BeginYear=2013).\n",
    "\n",
    "Os dados estão disponíveis em arquivos CSV no diretório `/data/nhanes`. Lá está disponível a documentação do esquema dos arquivos."
   ]
  },
  {
   "cell_type": "markdown",
   "metadata": {},
   "source": [
    "# Tarefa 1 - Esquema Relacional\n",
    "\n",
    "Analise os arquivos CSV que estão no diretório `/data/nhanes` e escreva um esquema relacional referente às tabelas, suas chaves primárias e estrangeiras (não é SQL ainda). Coloque a chave primária com dois underlines antes e dois depois:\n",
    "\n",
    "\\__teste\\__"
   ]
  },
  {
   "cell_type": "markdown",
   "metadata": {},
   "source": [
    "Pessoa( __id__, gender, age)\n",
    "Med(__code__, name)\n",
    "MedUse(__person_id__, __drug_code__ , days_use) "
   ]
  },
  {
   "cell_type": "markdown",
   "metadata": {},
   "source": [
    "## Criação das Tabelas em SQL e Importação de Dados\n",
    "\n",
    "Considere o seguinte exemplo em que é criada uma tabela em SQL e importado dados do arquivo CSV `demographic-person.csv`."
   ]
  },
  {
   "cell_type": "code",
   "execution_count": 1,
   "metadata": {},
   "outputs": [],
   "source": [
    "%defaultDatasource jdbc:h2:mem:db"
   ]
  },
  {
   "cell_type": "code",
   "execution_count": 7,
   "metadata": {},
   "outputs": [],
   "source": [
    "DROP TABLE IF EXISTS Pessoa;\n",
    "CREATE TABLE Pessoa (\n",
    "  Id VARCHAR(5) NOT NULL,\n",
    "  Gender INTEGER,\n",
    "  Age INTEGER,\n",
    "  PRIMARY KEY(Id)\n",
    ") AS SELECT\n",
    "    id,\n",
    "    gender,\n",
    "    age\n",
    "FROM CSVREAD('../../../data/nhanes/demographic-person.csv');"
   ]
  },
  {
   "cell_type": "code",
   "execution_count": 8,
   "metadata": {},
   "outputs": [
    {
     "data": {
      "application/vnd.jupyter.widget-view+json": {
       "model_id": "4e560de4-bf65-4656-b3e6-56ff2afff4a2",
       "version_major": 2,
       "version_minor": 0
      },
      "method": "display_data"
     },
     "metadata": {},
     "output_type": "display_data"
    }
   ],
   "source": [
    "SELECT * FROM Pessoa;"
   ]
  },
  {
   "cell_type": "markdown",
   "metadata": {},
   "source": [
    "# Tarefa 2 - Criação das Tabelas em SQL e Importação de Dados\n",
    "\n",
    "Escreva instruções SQL para montar as duas tabelas restante, conforme definido no esquema relacional da **Tarefa 1**.\n",
    "\n",
    "**Importante:** não defina chave primária para a tabela de uso de medicamento.\n",
    "\n",
    "Durante a criação das tabelas, realize a importação dos dados do arquivo CSV nas tabelas criadas, conforme exemplo anterior."
   ]
  },
  {
   "cell_type": "code",
   "execution_count": 9,
   "metadata": {},
   "outputs": [],
   "source": [
    "DROP TABLE IF EXISTS Med;\n",
    "DROP TABLE IF EXISTS MedUse;\n",
    "CREATE TABLE Med (\n",
    "  Code VARCHAR(6) NOT NULL,\n",
    "  Name VARCHAR(200), \n",
    "  PRIMARY KEY(Code)\n",
    ") AS SELECT\n",
    "    Code,\n",
    "    Name\n",
    "FROM CSVREAD('../../../data/nhanes/medications-drug.csv');\n",
    "\n",
    "CREATE TABLE MedUse (\n",
    "  PersonId VARCHAR(5) NOT NULL,\n",
    "  DrugCode VARCHAR(6) NOT NULL,\n",
    "  DaysUse INTEGER,\n",
    "  FOREIGN KEY(PersonId) \n",
    "      REFERENCES Pessoa(Id) \n",
    "        ON DELETE NO ACTION \n",
    "        ON UPDATE NO ACTION,\n",
    "  FOREIGN KEY(DrugCode) \n",
    "    REFERENCES Med(Code) \n",
    "        ON DELETE NO ACTION \n",
    "        ON UPDATE NO ACTION,\n",
    ") AS SELECT\n",
    "    person_id,\n",
    "    drug_code,\n",
    "    days_use\n",
    "FROM CSVREAD('../../../data/nhanes/medications-use.csv');"
   ]
  },
  {
   "cell_type": "code",
   "execution_count": 10,
   "metadata": {},
   "outputs": [
    {
     "data": {
      "application/vnd.jupyter.widget-view+json": {
       "model_id": "3a992e67-3798-48f8-8c74-7af1f62f4cc1",
       "version_major": 2,
       "version_minor": 0
      },
      "method": "display_data"
     },
     "metadata": {},
     "output_type": "display_data"
    }
   ],
   "source": [
    "SELECT * FROM Med;"
   ]
  },
  {
   "cell_type": "markdown",
   "metadata": {},
   "source": [
    "# Tarefa 3 - Consultas Simples\n",
    "\n",
    "Execute as consultas a seguir."
   ]
  },
  {
   "cell_type": "markdown",
   "metadata": {},
   "source": [
    "a) Liste pessoas com idade acima de 60"
   ]
  },
  {
   "cell_type": "code",
   "execution_count": 11,
   "metadata": {},
   "outputs": [
    {
     "data": {
      "application/vnd.jupyter.widget-view+json": {
       "model_id": "aa19dd95-24cf-4b79-b50e-2628e04f8088",
       "version_major": 2,
       "version_minor": 0
      },
      "method": "display_data"
     },
     "metadata": {},
     "output_type": "display_data"
    }
   ],
   "source": [
    "Select * FROM Pessoa WHERE age>60"
   ]
  },
  {
   "cell_type": "markdown",
   "metadata": {},
   "source": [
    "b) Liste as idades das pessoas cadastradas (sem repetições)"
   ]
  },
  {
   "cell_type": "code",
   "execution_count": 12,
   "metadata": {},
   "outputs": [
    {
     "data": {
      "application/vnd.jupyter.widget-view+json": {
       "model_id": "48aee1d9-2941-4b1a-b8a8-20e46e950ca1",
       "version_major": 2,
       "version_minor": 0
      },
      "method": "display_data"
     },
     "metadata": {},
     "output_type": "display_data"
    }
   ],
   "source": [
    "SELECT DISTINCT age FROM Pessoa "
   ]
  },
  {
   "cell_type": "markdown",
   "metadata": {},
   "source": [
    "c) Liste código das pessoas, idade, código dos medicamentos que usaram e dias de uso"
   ]
  },
  {
   "cell_type": "code",
   "execution_count": 13,
   "metadata": {},
   "outputs": [
    {
     "data": {
      "application/vnd.jupyter.widget-view+json": {
       "model_id": "f6f40742-272d-40a9-a95b-b067339c296a",
       "version_major": 2,
       "version_minor": 0
      },
      "method": "display_data"
     },
     "metadata": {},
     "output_type": "display_data"
    }
   ],
   "source": [
    "SELECT Pessoa.Id, Pessoa.Age, MedUse.DrugCode, MedUse.DaysUse FROM Pessoa, MedUse Where Pessoa.Id = MedUse.PersonId "
   ]
  },
  {
   "cell_type": "markdown",
   "metadata": {},
   "source": [
    "d) Liste código das Pessoas, idade, nome dos medicamentos que usaram e quantos dias de uso"
   ]
  },
  {
   "cell_type": "code",
   "execution_count": 14,
   "metadata": {},
   "outputs": [
    {
     "data": {
      "application/vnd.jupyter.widget-view+json": {
       "model_id": "c53cf566-e724-4a99-a259-7faae7638ea5",
       "version_major": 2,
       "version_minor": 0
      },
      "method": "display_data"
     },
     "metadata": {},
     "output_type": "display_data"
    }
   ],
   "source": [
    "SELECT Pessoa.Id, Pessoa.Age, Med.Name, MedUse.DaysUse FROM Pessoa, Med, MedUse Where Pessoa.Id = MedUse.PersonId and Med.Code= MedUse.DrugCode"
   ]
  },
  {
   "cell_type": "markdown",
   "metadata": {},
   "source": [
    "e) Liste nome dos medicamentos que foram usados por pessoas (sem repetições)"
   ]
  },
  {
   "cell_type": "code",
   "execution_count": 17,
   "metadata": {},
   "outputs": [
    {
     "data": {
      "application/vnd.jupyter.widget-view+json": {
       "model_id": "68e1873b-682a-4034-8d10-51827866fef6",
       "version_major": 2,
       "version_minor": 0
      },
      "method": "display_data"
     },
     "metadata": {},
     "output_type": "display_data"
    }
   ],
   "source": [
    "SELECT DISTINCT Med.Name FROM Pessoa, Med, MedUse Where Pessoa.Id = MedUse.PersonId and Med.Code= MedUse.DrugCode"
   ]
  },
  {
   "cell_type": "markdown",
   "metadata": {},
   "source": [
    "f) Liste nome dos medicamentos usados por mais de 2.000 dias (sem repetições)"
   ]
  },
  {
   "cell_type": "code",
   "execution_count": 45,
   "metadata": {
    "scrolled": true
   },
   "outputs": [
    {
     "data": {
      "application/vnd.jupyter.widget-view+json": {
       "model_id": "62aada83-6bc6-4bbe-9fc0-5bb0e8e43cc3",
       "version_major": 2,
       "version_minor": 0
      },
      "method": "display_data"
     },
     "metadata": {},
     "output_type": "display_data"
    }
   ],
   "source": [
    "SELECT Med.Name, SUM(MedUse.DaysUse) Dias_Usados \n",
    "        FROM Med, MedUse \n",
    "        Where Med.Code=MedUse.DrugCode \n",
    "        GROUP BY(Med.Name) \n",
    "        HAVING Dias_Usados>2000"
   ]
  },
  {
   "cell_type": "code",
   "execution_count": 44,
   "metadata": {},
   "outputs": [
    {
     "data": {
      "application/vnd.jupyter.widget-view+json": {
       "model_id": "9a5b360b-63c5-4289-a806-22f1973f215b",
       "version_major": 2,
       "version_minor": 0
      },
      "method": "display_data"
     },
     "metadata": {},
     "output_type": "display_data"
    }
   ],
   "source": [
    "SELECT Medic.Name FROM (\n",
    "    SELECT Med.Name, SUM(MedUse.DaysUse) Dias_Usados \n",
    "        FROM Med, MedUse \n",
    "        Where Med.Code=MedUse.DrugCode \n",
    "        GROUP BY(Med.Name) \n",
    "        HAVING Dias_Usados>2000) Medic"
   ]
  },
  {
   "cell_type": "code",
   "execution_count": null,
   "metadata": {},
   "outputs": [],
   "source": []
  }
 ],
 "metadata": {
  "kernelspec": {
   "display_name": "SQL",
   "language": "SQL",
   "name": "sql"
  },
  "language_info": {
   "codemirror_mode": "sql",
   "file_extension": ".sql",
   "mimetype": "",
   "name": "SQL",
   "nbconverter_exporter": "",
   "version": ""
  },
  "toc": {
   "base_numbering": 1,
   "nav_menu": {},
   "number_sections": false,
   "sideBar": false,
   "skip_h1_title": false,
   "title_cell": "Table of Contents",
   "title_sidebar": "Contents",
   "toc_cell": false,
   "toc_position": {},
   "toc_section_display": false,
   "toc_window_display": false
  }
 },
 "nbformat": 4,
 "nbformat_minor": 2
}
