{
 "cells": [
  {
   "cell_type": "code",
   "execution_count": 15,
   "source": [
    "%defaultDatasource jdbc:h2:mem:db"
   ],
   "outputs": [],
   "metadata": {}
  },
  {
   "cell_type": "markdown",
   "source": [
    "# Analisando o Uso de Medicamentos\n",
    "* Esta tarefa analisará os dados conforme três abordagens: análise do comportamento estatístico; análise de correlação entre pares; análise de correlação de variáveis.\n",
    "* A partir dos arquivos CSV que estão no diretórios /data/nhanes considere as seguintes tabelas SQL."
   ],
   "metadata": {}
  },
  {
   "cell_type": "code",
   "execution_count": 16,
   "source": [
    "DROP Table IF EXISTS Person;\r\n",
    "DROP Table IF EXISTS Drug;\r\n",
    "DROP Table IF EXISTS DrugUse;"
   ],
   "outputs": [],
   "metadata": {}
  },
  {
   "cell_type": "code",
   "execution_count": null,
   "source": [
    "CREATE TABLE Person (\r\n",
    "  Id VARCHAR(5) NOT NULL,\r\n",
    "  Gender INTEGER,\r\n",
    "  Age INTEGER,\r\n",
    "  PRIMARY KEY(Id)\r\n",
    ") AS SELECT\r\n",
    "    id,\r\n",
    "    gender,\r\n",
    "    age\r\n",
    "FROM CSVREAD('../data/demographic-person.csv');\r\n",
    "\r\n",
    "CREATE TABLE Drug (\r\n",
    "  Code VARCHAR(6) NOT NULL,\r\n",
    "  Name VARCHAR(100) NOT NULL,\r\n",
    "  PRIMARY KEY(Code)\r\n",
    ") AS SELECT\r\n",
    "    code,\r\n",
    "    name\r\n",
    "FROM CSVREAD('../data/medications-drug.csv');\r\n",
    "\r\n",
    "CREATE TABLE DrugUse (\r\n",
    "  PersonId VARCHAR(5) NOT NULL,\r\n",
    "  DrugCode VARCHAR(6) NOT NULL,\r\n",
    "  DaysUse INTEGER,\r\n",
    "  FOREIGN KEY(PersonId)\r\n",
    "    REFERENCES Person(Id)\r\n",
    "      ON DELETE NO ACTION\r\n",
    "      ON UPDATE NO ACTION,\r\n",
    "  FOREIGN KEY(DrugCode)\r\n",
    "    REFERENCES Drug(Code)\r\n",
    "      ON DELETE NO ACTION\r\n",
    "      ON UPDATE NO ACTION\r\n",
    ") AS SELECT\r\n",
    "    person_id,\r\n",
    "    drug_code,\r\n",
    "    days_use\r\n",
    "FROM CSVREAD('../data/medications-use.csv');"
   ],
   "outputs": [],
   "metadata": {}
  },
  {
   "cell_type": "code",
   "execution_count": 4,
   "source": [
    "SELECT * FROM Person;\r\n",
    "SELECT * FROM Drug;\r\n",
    "SELECT * FROM DrugUse"
   ],
   "outputs": [
    {
     "output_type": "display_data",
     "data": {
      "application/vnd.jupyter.widget-view+json": {
       "model_id": "a9768dad-e2fe-4fd9-959b-0b889a92279f",
       "version_major": 2,
       "version_minor": 0
      },
      "application/vnd.code.notebook.error": {
       "name": "Error",
       "message": "INVALID mime type: method. Must be in the format \"type/subtype[;optionalparameter]\"",
       "stack": "Error: INVALID mime type: method. Must be in the format \"type/subtype[;optionalparameter]\"\n\tat new Tt (c:\\Users\\guize\\AppData\\Local\\Programs\\Microsoft VS Code\\resources\\app\\out\\vs\\workbench\\services\\extensions\\node\\extensionHostProcess.js:87:55799)\n\tat Function.text (c:\\Users\\guize\\AppData\\Local\\Programs\\Microsoft VS Code\\resources\\app\\out\\vs\\workbench\\services\\extensions\\node\\extensionHostProcess.js:87:56450)\n\tat d (c:\\Users\\guize\\AppData\\Local\\Programs\\Microsoft VS Code\\resources\\app\\extensions\\ipynb\\dist\\ipynbMain.js:1:139047)\n\tat l (c:\\Users\\guize\\AppData\\Local\\Programs\\Microsoft VS Code\\resources\\app\\extensions\\ipynb\\dist\\ipynbMain.js:1:139713)\n\tat p (c:\\Users\\guize\\AppData\\Local\\Programs\\Microsoft VS Code\\resources\\app\\extensions\\ipynb\\dist\\ipynbMain.js:1:140218)\n\tat Array.map (<anonymous>)\n\tat c:\\Users\\guize\\AppData\\Local\\Programs\\Microsoft VS Code\\resources\\app\\extensions\\ipynb\\dist\\ipynbMain.js:1:141404\n\tat c:\\Users\\guize\\AppData\\Local\\Programs\\Microsoft VS Code\\resources\\app\\extensions\\ipynb\\dist\\ipynbMain.js:1:141646\n\tat c:\\Users\\guize\\AppData\\Local\\Programs\\Microsoft VS Code\\resources\\app\\extensions\\ipynb\\dist\\ipynbMain.js:1:141653\n\tat Array.map (<anonymous>)\n\tat e.jupyterNotebookModelToNotebookData (c:\\Users\\guize\\AppData\\Local\\Programs\\Microsoft VS Code\\resources\\app\\extensions\\ipynb\\dist\\ipynbMain.js:1:140962)\n\tat e.NotebookSerializer.deserializeNotebook (c:\\Users\\guize\\AppData\\Local\\Programs\\Microsoft VS Code\\resources\\app\\extensions\\ipynb\\dist\\ipynbMain.js:1:142865)\n\tat P.$dataToNotebook (c:\\Users\\guize\\AppData\\Local\\Programs\\Microsoft VS Code\\resources\\app\\out\\vs\\workbench\\services\\extensions\\node\\extensionHostProcess.js:94:214167)\n\tat i._doInvokeHandler (c:\\Users\\guize\\AppData\\Local\\Programs\\Microsoft VS Code\\resources\\app\\out\\vs\\workbench\\services\\extensions\\node\\extensionHostProcess.js:98:13543)\n\tat i._invokeHandler (c:\\Users\\guize\\AppData\\Local\\Programs\\Microsoft VS Code\\resources\\app\\out\\vs\\workbench\\services\\extensions\\node\\extensionHostProcess.js:98:13227)\n\tat i._receiveRequest (c:\\Users\\guize\\AppData\\Local\\Programs\\Microsoft VS Code\\resources\\app\\out\\vs\\workbench\\services\\extensions\\node\\extensionHostProcess.js:98:11838)\n\tat i._receiveOneMessage (c:\\Users\\guize\\AppData\\Local\\Programs\\Microsoft VS Code\\resources\\app\\out\\vs\\workbench\\services\\extensions\\node\\extensionHostProcess.js:98:10766)\n\tat c:\\Users\\guize\\AppData\\Local\\Programs\\Microsoft VS Code\\resources\\app\\out\\vs\\workbench\\services\\extensions\\node\\extensionHostProcess.js:98:8663\n\tat c.fire (c:\\Users\\guize\\AppData\\Local\\Programs\\Microsoft VS Code\\resources\\app\\out\\vs\\workbench\\services\\extensions\\node\\extensionHostProcess.js:66:1712)\n\tat l.fire (c:\\Users\\guize\\AppData\\Local\\Programs\\Microsoft VS Code\\resources\\app\\out\\vs\\workbench\\services\\extensions\\node\\extensionHostProcess.js:74:15781)\n\tat c:\\Users\\guize\\AppData\\Local\\Programs\\Microsoft VS Code\\resources\\app\\out\\vs\\workbench\\services\\extensions\\node\\extensionHostProcess.js:113:30187\n\tat c.fire (c:\\Users\\guize\\AppData\\Local\\Programs\\Microsoft VS Code\\resources\\app\\out\\vs\\workbench\\services\\extensions\\node\\extensionHostProcess.js:66:1712)\n\tat l.fire (c:\\Users\\guize\\AppData\\Local\\Programs\\Microsoft VS Code\\resources\\app\\out\\vs\\workbench\\services\\extensions\\node\\extensionHostProcess.js:74:15781)\n\tat r._receiveMessage (c:\\Users\\guize\\AppData\\Local\\Programs\\Microsoft VS Code\\resources\\app\\out\\vs\\workbench\\services\\extensions\\node\\extensionHostProcess.js:74:21051)\n\tat c:\\Users\\guize\\AppData\\Local\\Programs\\Microsoft VS Code\\resources\\app\\out\\vs\\workbench\\services\\extensions\\node\\extensionHostProcess.js:74:17929\n\tat c.fire (c:\\Users\\guize\\AppData\\Local\\Programs\\Microsoft VS Code\\resources\\app\\out\\vs\\workbench\\services\\extensions\\node\\extensionHostProcess.js:66:1712)\n\tat v.acceptChunk (c:\\Users\\guize\\AppData\\Local\\Programs\\Microsoft VS Code\\resources\\app\\out\\vs\\workbench\\services\\extensions\\node\\extensionHostProcess.js:74:13142)\n\tat c:\\Users\\guize\\AppData\\Local\\Programs\\Microsoft VS Code\\resources\\app\\out\\vs\\workbench\\services\\extensions\\node\\extensionHostProcess.js:74:12490\n\tat Socket.w (c:\\Users\\guize\\AppData\\Local\\Programs\\Microsoft VS Code\\resources\\app\\out\\vs\\workbench\\services\\extensions\\node\\extensionHostProcess.js:113:13350)\n\tat Socket.emit (events.js:315:20)\n\tat addChunk (internal/streams/readable.js:309:12)\n\tat readableAddChunk (internal/streams/readable.js:284:9)\n\tat Socket.Readable.push (internal/streams/readable.js:223:10)\n\tat Pipe.onStreamRead (internal/stream_base_commons.js:188:23)"
      }
     },
     "metadata": {}
    },
    {
     "output_type": "display_data",
     "data": {
      "application/vnd.jupyter.widget-view+json": {
       "model_id": "7d1ca809-1703-40fb-abac-79587c8a9221",
       "version_major": 2,
       "version_minor": 0
      },
      "application/vnd.code.notebook.error": {
       "name": "Error",
       "message": "INVALID mime type: method. Must be in the format \"type/subtype[;optionalparameter]\"",
       "stack": "Error: INVALID mime type: method. Must be in the format \"type/subtype[;optionalparameter]\"\n\tat new Tt (c:\\Users\\guize\\AppData\\Local\\Programs\\Microsoft VS Code\\resources\\app\\out\\vs\\workbench\\services\\extensions\\node\\extensionHostProcess.js:87:55799)\n\tat Function.text (c:\\Users\\guize\\AppData\\Local\\Programs\\Microsoft VS Code\\resources\\app\\out\\vs\\workbench\\services\\extensions\\node\\extensionHostProcess.js:87:56450)\n\tat d (c:\\Users\\guize\\AppData\\Local\\Programs\\Microsoft VS Code\\resources\\app\\extensions\\ipynb\\dist\\ipynbMain.js:1:139047)\n\tat l (c:\\Users\\guize\\AppData\\Local\\Programs\\Microsoft VS Code\\resources\\app\\extensions\\ipynb\\dist\\ipynbMain.js:1:139713)\n\tat p (c:\\Users\\guize\\AppData\\Local\\Programs\\Microsoft VS Code\\resources\\app\\extensions\\ipynb\\dist\\ipynbMain.js:1:140218)\n\tat Array.map (<anonymous>)\n\tat c:\\Users\\guize\\AppData\\Local\\Programs\\Microsoft VS Code\\resources\\app\\extensions\\ipynb\\dist\\ipynbMain.js:1:141404\n\tat c:\\Users\\guize\\AppData\\Local\\Programs\\Microsoft VS Code\\resources\\app\\extensions\\ipynb\\dist\\ipynbMain.js:1:141646\n\tat c:\\Users\\guize\\AppData\\Local\\Programs\\Microsoft VS Code\\resources\\app\\extensions\\ipynb\\dist\\ipynbMain.js:1:141653\n\tat Array.map (<anonymous>)\n\tat e.jupyterNotebookModelToNotebookData (c:\\Users\\guize\\AppData\\Local\\Programs\\Microsoft VS Code\\resources\\app\\extensions\\ipynb\\dist\\ipynbMain.js:1:140962)\n\tat e.NotebookSerializer.deserializeNotebook (c:\\Users\\guize\\AppData\\Local\\Programs\\Microsoft VS Code\\resources\\app\\extensions\\ipynb\\dist\\ipynbMain.js:1:142865)\n\tat P.$dataToNotebook (c:\\Users\\guize\\AppData\\Local\\Programs\\Microsoft VS Code\\resources\\app\\out\\vs\\workbench\\services\\extensions\\node\\extensionHostProcess.js:94:214167)\n\tat i._doInvokeHandler (c:\\Users\\guize\\AppData\\Local\\Programs\\Microsoft VS Code\\resources\\app\\out\\vs\\workbench\\services\\extensions\\node\\extensionHostProcess.js:98:13543)\n\tat i._invokeHandler (c:\\Users\\guize\\AppData\\Local\\Programs\\Microsoft VS Code\\resources\\app\\out\\vs\\workbench\\services\\extensions\\node\\extensionHostProcess.js:98:13227)\n\tat i._receiveRequest (c:\\Users\\guize\\AppData\\Local\\Programs\\Microsoft VS Code\\resources\\app\\out\\vs\\workbench\\services\\extensions\\node\\extensionHostProcess.js:98:11838)\n\tat i._receiveOneMessage (c:\\Users\\guize\\AppData\\Local\\Programs\\Microsoft VS Code\\resources\\app\\out\\vs\\workbench\\services\\extensions\\node\\extensionHostProcess.js:98:10766)\n\tat c:\\Users\\guize\\AppData\\Local\\Programs\\Microsoft VS Code\\resources\\app\\out\\vs\\workbench\\services\\extensions\\node\\extensionHostProcess.js:98:8663\n\tat c.fire (c:\\Users\\guize\\AppData\\Local\\Programs\\Microsoft VS Code\\resources\\app\\out\\vs\\workbench\\services\\extensions\\node\\extensionHostProcess.js:66:1712)\n\tat l.fire (c:\\Users\\guize\\AppData\\Local\\Programs\\Microsoft VS Code\\resources\\app\\out\\vs\\workbench\\services\\extensions\\node\\extensionHostProcess.js:74:15781)\n\tat c:\\Users\\guize\\AppData\\Local\\Programs\\Microsoft VS Code\\resources\\app\\out\\vs\\workbench\\services\\extensions\\node\\extensionHostProcess.js:113:30187\n\tat c.fire (c:\\Users\\guize\\AppData\\Local\\Programs\\Microsoft VS Code\\resources\\app\\out\\vs\\workbench\\services\\extensions\\node\\extensionHostProcess.js:66:1712)\n\tat l.fire (c:\\Users\\guize\\AppData\\Local\\Programs\\Microsoft VS Code\\resources\\app\\out\\vs\\workbench\\services\\extensions\\node\\extensionHostProcess.js:74:15781)\n\tat r._receiveMessage (c:\\Users\\guize\\AppData\\Local\\Programs\\Microsoft VS Code\\resources\\app\\out\\vs\\workbench\\services\\extensions\\node\\extensionHostProcess.js:74:21051)\n\tat c:\\Users\\guize\\AppData\\Local\\Programs\\Microsoft VS Code\\resources\\app\\out\\vs\\workbench\\services\\extensions\\node\\extensionHostProcess.js:74:17929\n\tat c.fire (c:\\Users\\guize\\AppData\\Local\\Programs\\Microsoft VS Code\\resources\\app\\out\\vs\\workbench\\services\\extensions\\node\\extensionHostProcess.js:66:1712)\n\tat v.acceptChunk (c:\\Users\\guize\\AppData\\Local\\Programs\\Microsoft VS Code\\resources\\app\\out\\vs\\workbench\\services\\extensions\\node\\extensionHostProcess.js:74:13142)\n\tat c:\\Users\\guize\\AppData\\Local\\Programs\\Microsoft VS Code\\resources\\app\\out\\vs\\workbench\\services\\extensions\\node\\extensionHostProcess.js:74:12490\n\tat Socket.w (c:\\Users\\guize\\AppData\\Local\\Programs\\Microsoft VS Code\\resources\\app\\out\\vs\\workbench\\services\\extensions\\node\\extensionHostProcess.js:113:13350)\n\tat Socket.emit (events.js:315:20)\n\tat addChunk (internal/streams/readable.js:309:12)\n\tat readableAddChunk (internal/streams/readable.js:284:9)\n\tat Socket.Readable.push (internal/streams/readable.js:223:10)\n\tat Pipe.onStreamRead (internal/stream_base_commons.js:188:23)"
      }
     },
     "metadata": {}
    },
    {
     "output_type": "display_data",
     "data": {
      "application/vnd.jupyter.widget-view+json": {
       "model_id": "58f31b64-1cdf-42bc-9691-31f47b724e48",
       "version_major": 2,
       "version_minor": 0
      },
      "application/vnd.code.notebook.error": {
       "name": "Error",
       "message": "INVALID mime type: method. Must be in the format \"type/subtype[;optionalparameter]\"",
       "stack": "Error: INVALID mime type: method. Must be in the format \"type/subtype[;optionalparameter]\"\n\tat new Tt (c:\\Users\\guize\\AppData\\Local\\Programs\\Microsoft VS Code\\resources\\app\\out\\vs\\workbench\\services\\extensions\\node\\extensionHostProcess.js:87:55799)\n\tat Function.text (c:\\Users\\guize\\AppData\\Local\\Programs\\Microsoft VS Code\\resources\\app\\out\\vs\\workbench\\services\\extensions\\node\\extensionHostProcess.js:87:56450)\n\tat d (c:\\Users\\guize\\AppData\\Local\\Programs\\Microsoft VS Code\\resources\\app\\extensions\\ipynb\\dist\\ipynbMain.js:1:139047)\n\tat l (c:\\Users\\guize\\AppData\\Local\\Programs\\Microsoft VS Code\\resources\\app\\extensions\\ipynb\\dist\\ipynbMain.js:1:139713)\n\tat p (c:\\Users\\guize\\AppData\\Local\\Programs\\Microsoft VS Code\\resources\\app\\extensions\\ipynb\\dist\\ipynbMain.js:1:140218)\n\tat Array.map (<anonymous>)\n\tat c:\\Users\\guize\\AppData\\Local\\Programs\\Microsoft VS Code\\resources\\app\\extensions\\ipynb\\dist\\ipynbMain.js:1:141404\n\tat c:\\Users\\guize\\AppData\\Local\\Programs\\Microsoft VS Code\\resources\\app\\extensions\\ipynb\\dist\\ipynbMain.js:1:141646\n\tat c:\\Users\\guize\\AppData\\Local\\Programs\\Microsoft VS Code\\resources\\app\\extensions\\ipynb\\dist\\ipynbMain.js:1:141653\n\tat Array.map (<anonymous>)\n\tat e.jupyterNotebookModelToNotebookData (c:\\Users\\guize\\AppData\\Local\\Programs\\Microsoft VS Code\\resources\\app\\extensions\\ipynb\\dist\\ipynbMain.js:1:140962)\n\tat e.NotebookSerializer.deserializeNotebook (c:\\Users\\guize\\AppData\\Local\\Programs\\Microsoft VS Code\\resources\\app\\extensions\\ipynb\\dist\\ipynbMain.js:1:142865)\n\tat P.$dataToNotebook (c:\\Users\\guize\\AppData\\Local\\Programs\\Microsoft VS Code\\resources\\app\\out\\vs\\workbench\\services\\extensions\\node\\extensionHostProcess.js:94:214167)\n\tat i._doInvokeHandler (c:\\Users\\guize\\AppData\\Local\\Programs\\Microsoft VS Code\\resources\\app\\out\\vs\\workbench\\services\\extensions\\node\\extensionHostProcess.js:98:13543)\n\tat i._invokeHandler (c:\\Users\\guize\\AppData\\Local\\Programs\\Microsoft VS Code\\resources\\app\\out\\vs\\workbench\\services\\extensions\\node\\extensionHostProcess.js:98:13227)\n\tat i._receiveRequest (c:\\Users\\guize\\AppData\\Local\\Programs\\Microsoft VS Code\\resources\\app\\out\\vs\\workbench\\services\\extensions\\node\\extensionHostProcess.js:98:11838)\n\tat i._receiveOneMessage (c:\\Users\\guize\\AppData\\Local\\Programs\\Microsoft VS Code\\resources\\app\\out\\vs\\workbench\\services\\extensions\\node\\extensionHostProcess.js:98:10766)\n\tat c:\\Users\\guize\\AppData\\Local\\Programs\\Microsoft VS Code\\resources\\app\\out\\vs\\workbench\\services\\extensions\\node\\extensionHostProcess.js:98:8663\n\tat c.fire (c:\\Users\\guize\\AppData\\Local\\Programs\\Microsoft VS Code\\resources\\app\\out\\vs\\workbench\\services\\extensions\\node\\extensionHostProcess.js:66:1712)\n\tat l.fire (c:\\Users\\guize\\AppData\\Local\\Programs\\Microsoft VS Code\\resources\\app\\out\\vs\\workbench\\services\\extensions\\node\\extensionHostProcess.js:74:15781)\n\tat c:\\Users\\guize\\AppData\\Local\\Programs\\Microsoft VS Code\\resources\\app\\out\\vs\\workbench\\services\\extensions\\node\\extensionHostProcess.js:113:30187\n\tat c.fire (c:\\Users\\guize\\AppData\\Local\\Programs\\Microsoft VS Code\\resources\\app\\out\\vs\\workbench\\services\\extensions\\node\\extensionHostProcess.js:66:1712)\n\tat l.fire (c:\\Users\\guize\\AppData\\Local\\Programs\\Microsoft VS Code\\resources\\app\\out\\vs\\workbench\\services\\extensions\\node\\extensionHostProcess.js:74:15781)\n\tat r._receiveMessage (c:\\Users\\guize\\AppData\\Local\\Programs\\Microsoft VS Code\\resources\\app\\out\\vs\\workbench\\services\\extensions\\node\\extensionHostProcess.js:74:21051)\n\tat c:\\Users\\guize\\AppData\\Local\\Programs\\Microsoft VS Code\\resources\\app\\out\\vs\\workbench\\services\\extensions\\node\\extensionHostProcess.js:74:17929\n\tat c.fire (c:\\Users\\guize\\AppData\\Local\\Programs\\Microsoft VS Code\\resources\\app\\out\\vs\\workbench\\services\\extensions\\node\\extensionHostProcess.js:66:1712)\n\tat v.acceptChunk (c:\\Users\\guize\\AppData\\Local\\Programs\\Microsoft VS Code\\resources\\app\\out\\vs\\workbench\\services\\extensions\\node\\extensionHostProcess.js:74:13142)\n\tat c:\\Users\\guize\\AppData\\Local\\Programs\\Microsoft VS Code\\resources\\app\\out\\vs\\workbench\\services\\extensions\\node\\extensionHostProcess.js:74:12490\n\tat Socket.w (c:\\Users\\guize\\AppData\\Local\\Programs\\Microsoft VS Code\\resources\\app\\out\\vs\\workbench\\services\\extensions\\node\\extensionHostProcess.js:113:13350)\n\tat Socket.emit (events.js:315:20)\n\tat addChunk (internal/streams/readable.js:309:12)\n\tat readableAddChunk (internal/streams/readable.js:284:9)\n\tat Socket.Readable.push (internal/streams/readable.js:223:10)\n\tat Pipe.onStreamRead (internal/stream_base_commons.js:188:23)"
      }
     },
     "metadata": {}
    }
   ],
   "metadata": {}
  },
  {
   "cell_type": "markdown",
   "source": [
    "# I. Análise de comportamento estatístico"
   ],
   "metadata": {}
  },
  {
   "cell_type": "markdown",
   "source": [
    "## 1) Contabilizando o uso de medicamentos\n",
    "\n",
    "* Liste o nome de todos os medicamentos e a quantidade de pessoas que usa cada um deles."
   ],
   "metadata": {}
  },
  {
   "cell_type": "code",
   "execution_count": 18,
   "source": [
    "SELECT Drug.Name, COUNT(Person.Id) AS Pessoas \r\n",
    "    FROM Drug, DrugUse, Person \r\n",
    "    Where Drug.Code=DrugUse.DrugCode AND DrugUse.PersonId=Person.Id \r\n",
    "    GROUP BY(Drug.Name)"
   ],
   "outputs": [
    {
     "output_type": "display_data",
     "data": {
      "application/vnd.jupyter.widget-view+json": {
       "model_id": "be24484c-dc4a-4335-bb54-92af64467ae1",
       "version_major": 2,
       "version_minor": 0
      },
      "application/vnd.code.notebook.error": {
       "name": "Error",
       "message": "INVALID mime type: method. Must be in the format \"type/subtype[;optionalparameter]\"",
       "stack": "Error: INVALID mime type: method. Must be in the format \"type/subtype[;optionalparameter]\"\n\tat new Tt (c:\\Users\\guize\\AppData\\Local\\Programs\\Microsoft VS Code\\resources\\app\\out\\vs\\workbench\\services\\extensions\\node\\extensionHostProcess.js:87:55799)\n\tat Function.text (c:\\Users\\guize\\AppData\\Local\\Programs\\Microsoft VS Code\\resources\\app\\out\\vs\\workbench\\services\\extensions\\node\\extensionHostProcess.js:87:56450)\n\tat d (c:\\Users\\guize\\AppData\\Local\\Programs\\Microsoft VS Code\\resources\\app\\extensions\\ipynb\\dist\\ipynbMain.js:1:139047)\n\tat l (c:\\Users\\guize\\AppData\\Local\\Programs\\Microsoft VS Code\\resources\\app\\extensions\\ipynb\\dist\\ipynbMain.js:1:139713)\n\tat p (c:\\Users\\guize\\AppData\\Local\\Programs\\Microsoft VS Code\\resources\\app\\extensions\\ipynb\\dist\\ipynbMain.js:1:140218)\n\tat Array.map (<anonymous>)\n\tat c:\\Users\\guize\\AppData\\Local\\Programs\\Microsoft VS Code\\resources\\app\\extensions\\ipynb\\dist\\ipynbMain.js:1:141404\n\tat c:\\Users\\guize\\AppData\\Local\\Programs\\Microsoft VS Code\\resources\\app\\extensions\\ipynb\\dist\\ipynbMain.js:1:141646\n\tat c:\\Users\\guize\\AppData\\Local\\Programs\\Microsoft VS Code\\resources\\app\\extensions\\ipynb\\dist\\ipynbMain.js:1:141653\n\tat Array.map (<anonymous>)\n\tat e.jupyterNotebookModelToNotebookData (c:\\Users\\guize\\AppData\\Local\\Programs\\Microsoft VS Code\\resources\\app\\extensions\\ipynb\\dist\\ipynbMain.js:1:140962)\n\tat e.NotebookSerializer.deserializeNotebook (c:\\Users\\guize\\AppData\\Local\\Programs\\Microsoft VS Code\\resources\\app\\extensions\\ipynb\\dist\\ipynbMain.js:1:142865)\n\tat P.$dataToNotebook (c:\\Users\\guize\\AppData\\Local\\Programs\\Microsoft VS Code\\resources\\app\\out\\vs\\workbench\\services\\extensions\\node\\extensionHostProcess.js:94:214167)\n\tat i._doInvokeHandler (c:\\Users\\guize\\AppData\\Local\\Programs\\Microsoft VS Code\\resources\\app\\out\\vs\\workbench\\services\\extensions\\node\\extensionHostProcess.js:98:13543)\n\tat i._invokeHandler (c:\\Users\\guize\\AppData\\Local\\Programs\\Microsoft VS Code\\resources\\app\\out\\vs\\workbench\\services\\extensions\\node\\extensionHostProcess.js:98:13227)\n\tat i._receiveRequest (c:\\Users\\guize\\AppData\\Local\\Programs\\Microsoft VS Code\\resources\\app\\out\\vs\\workbench\\services\\extensions\\node\\extensionHostProcess.js:98:11838)\n\tat i._receiveOneMessage (c:\\Users\\guize\\AppData\\Local\\Programs\\Microsoft VS Code\\resources\\app\\out\\vs\\workbench\\services\\extensions\\node\\extensionHostProcess.js:98:10766)\n\tat c:\\Users\\guize\\AppData\\Local\\Programs\\Microsoft VS Code\\resources\\app\\out\\vs\\workbench\\services\\extensions\\node\\extensionHostProcess.js:98:8663\n\tat c.fire (c:\\Users\\guize\\AppData\\Local\\Programs\\Microsoft VS Code\\resources\\app\\out\\vs\\workbench\\services\\extensions\\node\\extensionHostProcess.js:66:1712)\n\tat l.fire (c:\\Users\\guize\\AppData\\Local\\Programs\\Microsoft VS Code\\resources\\app\\out\\vs\\workbench\\services\\extensions\\node\\extensionHostProcess.js:74:15781)\n\tat c:\\Users\\guize\\AppData\\Local\\Programs\\Microsoft VS Code\\resources\\app\\out\\vs\\workbench\\services\\extensions\\node\\extensionHostProcess.js:113:30187\n\tat c.fire (c:\\Users\\guize\\AppData\\Local\\Programs\\Microsoft VS Code\\resources\\app\\out\\vs\\workbench\\services\\extensions\\node\\extensionHostProcess.js:66:1712)\n\tat l.fire (c:\\Users\\guize\\AppData\\Local\\Programs\\Microsoft VS Code\\resources\\app\\out\\vs\\workbench\\services\\extensions\\node\\extensionHostProcess.js:74:15781)\n\tat r._receiveMessage (c:\\Users\\guize\\AppData\\Local\\Programs\\Microsoft VS Code\\resources\\app\\out\\vs\\workbench\\services\\extensions\\node\\extensionHostProcess.js:74:21051)\n\tat c:\\Users\\guize\\AppData\\Local\\Programs\\Microsoft VS Code\\resources\\app\\out\\vs\\workbench\\services\\extensions\\node\\extensionHostProcess.js:74:17929\n\tat c.fire (c:\\Users\\guize\\AppData\\Local\\Programs\\Microsoft VS Code\\resources\\app\\out\\vs\\workbench\\services\\extensions\\node\\extensionHostProcess.js:66:1712)\n\tat v.acceptChunk (c:\\Users\\guize\\AppData\\Local\\Programs\\Microsoft VS Code\\resources\\app\\out\\vs\\workbench\\services\\extensions\\node\\extensionHostProcess.js:74:13142)\n\tat c:\\Users\\guize\\AppData\\Local\\Programs\\Microsoft VS Code\\resources\\app\\out\\vs\\workbench\\services\\extensions\\node\\extensionHostProcess.js:74:12490\n\tat Socket.w (c:\\Users\\guize\\AppData\\Local\\Programs\\Microsoft VS Code\\resources\\app\\out\\vs\\workbench\\services\\extensions\\node\\extensionHostProcess.js:113:13350)\n\tat Socket.emit (events.js:315:20)\n\tat addChunk (internal/streams/readable.js:309:12)\n\tat readableAddChunk (internal/streams/readable.js:284:9)\n\tat Socket.Readable.push (internal/streams/readable.js:223:10)\n\tat Pipe.onStreamRead (internal/stream_base_commons.js:188:23)"
      }
     },
     "metadata": {}
    }
   ],
   "metadata": {}
  },
  {
   "cell_type": "markdown",
   "source": [
    "## 2) Medicamento mais usado com VIEW\n",
    "\n",
    "* Informe o código do medicamento mais usado: fazendo uso de VIEW."
   ],
   "metadata": {}
  },
  {
   "cell_type": "code",
   "execution_count": 19,
   "source": [
    "DROP TABLE IF EXISTS UsosMedicamento;\r\n",
    "CREATE VIEW UsosMedicamento AS SELECT Drug.Code, COUNT(Person.Id) AS Pessoas \r\n",
    "    FROM Drug, DrugUse, Person \r\n",
    "    Where Drug.Code=DrugUse.DrugCode AND DrugUse.PersonId=Person.Id \r\n",
    "    GROUP BY(Drug.Name);\r\n",
    "\r\n",
    "SELECT Code, Pessoas \r\n",
    "    FROM UsosMedicamento \r\n",
    "    WHERE UsosMedicamento.Pessoas >= ALL (Select Pessoas From UsosMedicamento)"
   ],
   "outputs": [
    {
     "output_type": "display_data",
     "data": {
      "application/vnd.jupyter.widget-view+json": {
       "model_id": "2c2409e1-5d07-42c0-bb6e-2b524a159d2e",
       "version_major": 2,
       "version_minor": 0
      },
      "application/vnd.code.notebook.error": {
       "name": "Error",
       "message": "INVALID mime type: method. Must be in the format \"type/subtype[;optionalparameter]\"",
       "stack": "Error: INVALID mime type: method. Must be in the format \"type/subtype[;optionalparameter]\"\n\tat new Tt (c:\\Users\\guize\\AppData\\Local\\Programs\\Microsoft VS Code\\resources\\app\\out\\vs\\workbench\\services\\extensions\\node\\extensionHostProcess.js:87:55799)\n\tat Function.text (c:\\Users\\guize\\AppData\\Local\\Programs\\Microsoft VS Code\\resources\\app\\out\\vs\\workbench\\services\\extensions\\node\\extensionHostProcess.js:87:56450)\n\tat d (c:\\Users\\guize\\AppData\\Local\\Programs\\Microsoft VS Code\\resources\\app\\extensions\\ipynb\\dist\\ipynbMain.js:1:139047)\n\tat l (c:\\Users\\guize\\AppData\\Local\\Programs\\Microsoft VS Code\\resources\\app\\extensions\\ipynb\\dist\\ipynbMain.js:1:139713)\n\tat p (c:\\Users\\guize\\AppData\\Local\\Programs\\Microsoft VS Code\\resources\\app\\extensions\\ipynb\\dist\\ipynbMain.js:1:140218)\n\tat Array.map (<anonymous>)\n\tat c:\\Users\\guize\\AppData\\Local\\Programs\\Microsoft VS Code\\resources\\app\\extensions\\ipynb\\dist\\ipynbMain.js:1:141404\n\tat c:\\Users\\guize\\AppData\\Local\\Programs\\Microsoft VS Code\\resources\\app\\extensions\\ipynb\\dist\\ipynbMain.js:1:141646\n\tat c:\\Users\\guize\\AppData\\Local\\Programs\\Microsoft VS Code\\resources\\app\\extensions\\ipynb\\dist\\ipynbMain.js:1:141653\n\tat Array.map (<anonymous>)\n\tat e.jupyterNotebookModelToNotebookData (c:\\Users\\guize\\AppData\\Local\\Programs\\Microsoft VS Code\\resources\\app\\extensions\\ipynb\\dist\\ipynbMain.js:1:140962)\n\tat e.NotebookSerializer.deserializeNotebook (c:\\Users\\guize\\AppData\\Local\\Programs\\Microsoft VS Code\\resources\\app\\extensions\\ipynb\\dist\\ipynbMain.js:1:142865)\n\tat P.$dataToNotebook (c:\\Users\\guize\\AppData\\Local\\Programs\\Microsoft VS Code\\resources\\app\\out\\vs\\workbench\\services\\extensions\\node\\extensionHostProcess.js:94:214167)\n\tat i._doInvokeHandler (c:\\Users\\guize\\AppData\\Local\\Programs\\Microsoft VS Code\\resources\\app\\out\\vs\\workbench\\services\\extensions\\node\\extensionHostProcess.js:98:13543)\n\tat i._invokeHandler (c:\\Users\\guize\\AppData\\Local\\Programs\\Microsoft VS Code\\resources\\app\\out\\vs\\workbench\\services\\extensions\\node\\extensionHostProcess.js:98:13227)\n\tat i._receiveRequest (c:\\Users\\guize\\AppData\\Local\\Programs\\Microsoft VS Code\\resources\\app\\out\\vs\\workbench\\services\\extensions\\node\\extensionHostProcess.js:98:11838)\n\tat i._receiveOneMessage (c:\\Users\\guize\\AppData\\Local\\Programs\\Microsoft VS Code\\resources\\app\\out\\vs\\workbench\\services\\extensions\\node\\extensionHostProcess.js:98:10766)\n\tat c:\\Users\\guize\\AppData\\Local\\Programs\\Microsoft VS Code\\resources\\app\\out\\vs\\workbench\\services\\extensions\\node\\extensionHostProcess.js:98:8663\n\tat c.fire (c:\\Users\\guize\\AppData\\Local\\Programs\\Microsoft VS Code\\resources\\app\\out\\vs\\workbench\\services\\extensions\\node\\extensionHostProcess.js:66:1712)\n\tat l.fire (c:\\Users\\guize\\AppData\\Local\\Programs\\Microsoft VS Code\\resources\\app\\out\\vs\\workbench\\services\\extensions\\node\\extensionHostProcess.js:74:15781)\n\tat c:\\Users\\guize\\AppData\\Local\\Programs\\Microsoft VS Code\\resources\\app\\out\\vs\\workbench\\services\\extensions\\node\\extensionHostProcess.js:113:30187\n\tat c.fire (c:\\Users\\guize\\AppData\\Local\\Programs\\Microsoft VS Code\\resources\\app\\out\\vs\\workbench\\services\\extensions\\node\\extensionHostProcess.js:66:1712)\n\tat l.fire (c:\\Users\\guize\\AppData\\Local\\Programs\\Microsoft VS Code\\resources\\app\\out\\vs\\workbench\\services\\extensions\\node\\extensionHostProcess.js:74:15781)\n\tat r._receiveMessage (c:\\Users\\guize\\AppData\\Local\\Programs\\Microsoft VS Code\\resources\\app\\out\\vs\\workbench\\services\\extensions\\node\\extensionHostProcess.js:74:21051)\n\tat c:\\Users\\guize\\AppData\\Local\\Programs\\Microsoft VS Code\\resources\\app\\out\\vs\\workbench\\services\\extensions\\node\\extensionHostProcess.js:74:17929\n\tat c.fire (c:\\Users\\guize\\AppData\\Local\\Programs\\Microsoft VS Code\\resources\\app\\out\\vs\\workbench\\services\\extensions\\node\\extensionHostProcess.js:66:1712)\n\tat v.acceptChunk (c:\\Users\\guize\\AppData\\Local\\Programs\\Microsoft VS Code\\resources\\app\\out\\vs\\workbench\\services\\extensions\\node\\extensionHostProcess.js:74:13142)\n\tat c:\\Users\\guize\\AppData\\Local\\Programs\\Microsoft VS Code\\resources\\app\\out\\vs\\workbench\\services\\extensions\\node\\extensionHostProcess.js:74:12490\n\tat Socket.w (c:\\Users\\guize\\AppData\\Local\\Programs\\Microsoft VS Code\\resources\\app\\out\\vs\\workbench\\services\\extensions\\node\\extensionHostProcess.js:113:13350)\n\tat Socket.emit (events.js:315:20)\n\tat addChunk (internal/streams/readable.js:309:12)\n\tat readableAddChunk (internal/streams/readable.js:284:9)\n\tat Socket.Readable.push (internal/streams/readable.js:223:10)\n\tat Pipe.onStreamRead (internal/stream_base_commons.js:188:23)"
      }
     },
     "metadata": {}
    }
   ],
   "metadata": {}
  },
  {
   "cell_type": "markdown",
   "source": [
    "## 3) Medicamento mais usado sem VIEW\n",
    "\n",
    "* Informe o código do medicamento mais usado: sem fazer uso de VIEW."
   ],
   "metadata": {}
  },
  {
   "cell_type": "code",
   "execution_count": 20,
   "source": [
    "SELECT Drug.Code, COUNT(Person.Id) AS Pessoas \r\n",
    "    FROM Drug, DrugUse, Person \r\n",
    "    Where Drug.Code=DrugUse.DrugCode AND DrugUse.PersonId=Person.Id \r\n",
    "    GROUP BY(Drug.Code)\r\n",
    "    HAVING Pessoas >= ALL (SELECT COUNT(Person.Id) AS Pessoas \r\n",
    "                            FROM Drug, DrugUse, Person \r\n",
    "                            Where Drug.Code=DrugUse.DrugCode AND DrugUse.PersonId=Person.Id \r\n",
    "                            GROUP BY(Drug.Code))"
   ],
   "outputs": [
    {
     "output_type": "display_data",
     "data": {
      "application/vnd.jupyter.widget-view+json": {
       "model_id": "dd25a928-19e3-4421-b0b7-c8f1d72d1480",
       "version_major": 2,
       "version_minor": 0
      },
      "application/vnd.code.notebook.error": {
       "name": "Error",
       "message": "INVALID mime type: method. Must be in the format \"type/subtype[;optionalparameter]\"",
       "stack": "Error: INVALID mime type: method. Must be in the format \"type/subtype[;optionalparameter]\"\n\tat new Tt (c:\\Users\\guize\\AppData\\Local\\Programs\\Microsoft VS Code\\resources\\app\\out\\vs\\workbench\\services\\extensions\\node\\extensionHostProcess.js:87:55799)\n\tat Function.text (c:\\Users\\guize\\AppData\\Local\\Programs\\Microsoft VS Code\\resources\\app\\out\\vs\\workbench\\services\\extensions\\node\\extensionHostProcess.js:87:56450)\n\tat d (c:\\Users\\guize\\AppData\\Local\\Programs\\Microsoft VS Code\\resources\\app\\extensions\\ipynb\\dist\\ipynbMain.js:1:139047)\n\tat l (c:\\Users\\guize\\AppData\\Local\\Programs\\Microsoft VS Code\\resources\\app\\extensions\\ipynb\\dist\\ipynbMain.js:1:139713)\n\tat p (c:\\Users\\guize\\AppData\\Local\\Programs\\Microsoft VS Code\\resources\\app\\extensions\\ipynb\\dist\\ipynbMain.js:1:140218)\n\tat Array.map (<anonymous>)\n\tat c:\\Users\\guize\\AppData\\Local\\Programs\\Microsoft VS Code\\resources\\app\\extensions\\ipynb\\dist\\ipynbMain.js:1:141404\n\tat c:\\Users\\guize\\AppData\\Local\\Programs\\Microsoft VS Code\\resources\\app\\extensions\\ipynb\\dist\\ipynbMain.js:1:141646\n\tat c:\\Users\\guize\\AppData\\Local\\Programs\\Microsoft VS Code\\resources\\app\\extensions\\ipynb\\dist\\ipynbMain.js:1:141653\n\tat Array.map (<anonymous>)\n\tat e.jupyterNotebookModelToNotebookData (c:\\Users\\guize\\AppData\\Local\\Programs\\Microsoft VS Code\\resources\\app\\extensions\\ipynb\\dist\\ipynbMain.js:1:140962)\n\tat e.NotebookSerializer.deserializeNotebook (c:\\Users\\guize\\AppData\\Local\\Programs\\Microsoft VS Code\\resources\\app\\extensions\\ipynb\\dist\\ipynbMain.js:1:142865)\n\tat P.$dataToNotebook (c:\\Users\\guize\\AppData\\Local\\Programs\\Microsoft VS Code\\resources\\app\\out\\vs\\workbench\\services\\extensions\\node\\extensionHostProcess.js:94:214167)\n\tat i._doInvokeHandler (c:\\Users\\guize\\AppData\\Local\\Programs\\Microsoft VS Code\\resources\\app\\out\\vs\\workbench\\services\\extensions\\node\\extensionHostProcess.js:98:13543)\n\tat i._invokeHandler (c:\\Users\\guize\\AppData\\Local\\Programs\\Microsoft VS Code\\resources\\app\\out\\vs\\workbench\\services\\extensions\\node\\extensionHostProcess.js:98:13227)\n\tat i._receiveRequest (c:\\Users\\guize\\AppData\\Local\\Programs\\Microsoft VS Code\\resources\\app\\out\\vs\\workbench\\services\\extensions\\node\\extensionHostProcess.js:98:11838)\n\tat i._receiveOneMessage (c:\\Users\\guize\\AppData\\Local\\Programs\\Microsoft VS Code\\resources\\app\\out\\vs\\workbench\\services\\extensions\\node\\extensionHostProcess.js:98:10766)\n\tat c:\\Users\\guize\\AppData\\Local\\Programs\\Microsoft VS Code\\resources\\app\\out\\vs\\workbench\\services\\extensions\\node\\extensionHostProcess.js:98:8663\n\tat c.fire (c:\\Users\\guize\\AppData\\Local\\Programs\\Microsoft VS Code\\resources\\app\\out\\vs\\workbench\\services\\extensions\\node\\extensionHostProcess.js:66:1712)\n\tat l.fire (c:\\Users\\guize\\AppData\\Local\\Programs\\Microsoft VS Code\\resources\\app\\out\\vs\\workbench\\services\\extensions\\node\\extensionHostProcess.js:74:15781)\n\tat c:\\Users\\guize\\AppData\\Local\\Programs\\Microsoft VS Code\\resources\\app\\out\\vs\\workbench\\services\\extensions\\node\\extensionHostProcess.js:113:30187\n\tat c.fire (c:\\Users\\guize\\AppData\\Local\\Programs\\Microsoft VS Code\\resources\\app\\out\\vs\\workbench\\services\\extensions\\node\\extensionHostProcess.js:66:1712)\n\tat l.fire (c:\\Users\\guize\\AppData\\Local\\Programs\\Microsoft VS Code\\resources\\app\\out\\vs\\workbench\\services\\extensions\\node\\extensionHostProcess.js:74:15781)\n\tat r._receiveMessage (c:\\Users\\guize\\AppData\\Local\\Programs\\Microsoft VS Code\\resources\\app\\out\\vs\\workbench\\services\\extensions\\node\\extensionHostProcess.js:74:21051)\n\tat c:\\Users\\guize\\AppData\\Local\\Programs\\Microsoft VS Code\\resources\\app\\out\\vs\\workbench\\services\\extensions\\node\\extensionHostProcess.js:74:17929\n\tat c.fire (c:\\Users\\guize\\AppData\\Local\\Programs\\Microsoft VS Code\\resources\\app\\out\\vs\\workbench\\services\\extensions\\node\\extensionHostProcess.js:66:1712)\n\tat v.acceptChunk (c:\\Users\\guize\\AppData\\Local\\Programs\\Microsoft VS Code\\resources\\app\\out\\vs\\workbench\\services\\extensions\\node\\extensionHostProcess.js:74:13142)\n\tat c:\\Users\\guize\\AppData\\Local\\Programs\\Microsoft VS Code\\resources\\app\\out\\vs\\workbench\\services\\extensions\\node\\extensionHostProcess.js:74:12490\n\tat Socket.w (c:\\Users\\guize\\AppData\\Local\\Programs\\Microsoft VS Code\\resources\\app\\out\\vs\\workbench\\services\\extensions\\node\\extensionHostProcess.js:113:13350)\n\tat Socket.emit (events.js:315:20)\n\tat addChunk (internal/streams/readable.js:309:12)\n\tat readableAddChunk (internal/streams/readable.js:284:9)\n\tat Socket.Readable.push (internal/streams/readable.js:223:10)\n\tat Pipe.onStreamRead (internal/stream_base_commons.js:188:23)"
      }
     },
     "metadata": {}
    }
   ],
   "metadata": {}
  },
  {
   "cell_type": "markdown",
   "source": [
    "## 4) Nome do medicamento mais usado\n",
    "* Informe o nome do medicamento mais usado (uso de VIEW é opcional)."
   ],
   "metadata": {}
  },
  {
   "cell_type": "code",
   "execution_count": 21,
   "source": [
    "DROP TABLE IF EXISTS UsosMed2;\r\n",
    "CREATE VIEW UsosMed2 AS SELECT Drug.Name, COUNT(Person.Id) AS Pessoas \r\n",
    "    FROM Drug, DrugUse, Person \r\n",
    "    Where Drug.Code=DrugUse.DrugCode AND DrugUse.PersonId=Person.Id \r\n",
    "    GROUP BY(Drug.Name);\r\n",
    "\r\n",
    "SELECT Name \r\n",
    "    FROM UsosMed2 \r\n",
    "    WHERE UsosMed2.Pessoas >= ALL (Select Pessoas From UsosMed2)"
   ],
   "outputs": [
    {
     "output_type": "execute_result",
     "data": {
      "text/plain": [
       "LISINOPRIL"
      ]
     },
     "metadata": {},
     "execution_count": 21
    }
   ],
   "metadata": {}
  },
  {
   "cell_type": "markdown",
   "source": [
    "## 5) Contabilizando quanto as pessoas usam de medicamento\n",
    "\n",
    "* Informe o quantidade média de medicamentos diferentes usados por pessoa."
   ],
   "metadata": {}
  },
  {
   "cell_type": "code",
   "execution_count": 22,
   "source": [
    "CREATE VIEW MedPorPessoa AS SELECT Person.Id, COUNT(DrugUse.DrugCode) AS Meds \r\n",
    "    FROM Drug, DrugUse, Person \r\n",
    "    Where Person.Id=DrugUse.PersonId AND DrugUse.DrugCode=Drug.Code \r\n",
    "    GROUP BY(Person.Id);\r\n",
    "\r\n",
    "SELECT AVG(Meds) \r\n",
    "    FROM MedPorPessoa"
   ],
   "outputs": [
    {
     "output_type": "execute_result",
     "data": {
      "text/plain": [
       "3"
      ]
     },
     "metadata": {},
     "execution_count": 22
    }
   ],
   "metadata": {}
  },
  {
   "cell_type": "markdown",
   "source": [
    "## 6) Pessoas que usam mais do que a média\n",
    "\n",
    "* Liste o id das pessoas que usam mais medicamentos do que a média."
   ],
   "metadata": {}
  },
  {
   "cell_type": "code",
   "execution_count": 23,
   "source": [
    "Select Id, Meds \r\n",
    "    FROM MedPorPessoa \r\n",
    "    Where Meds > (SELECT AVG(Meds) FROM MedPorPessoa)"
   ],
   "outputs": [
    {
     "output_type": "display_data",
     "data": {
      "application/vnd.jupyter.widget-view+json": {
       "model_id": "d703e243-ecbf-436d-b56e-482b9388ca2b",
       "version_major": 2,
       "version_minor": 0
      },
      "application/vnd.code.notebook.error": {
       "name": "Error",
       "message": "INVALID mime type: method. Must be in the format \"type/subtype[;optionalparameter]\"",
       "stack": "Error: INVALID mime type: method. Must be in the format \"type/subtype[;optionalparameter]\"\n\tat new Tt (c:\\Users\\guize\\AppData\\Local\\Programs\\Microsoft VS Code\\resources\\app\\out\\vs\\workbench\\services\\extensions\\node\\extensionHostProcess.js:87:55799)\n\tat Function.text (c:\\Users\\guize\\AppData\\Local\\Programs\\Microsoft VS Code\\resources\\app\\out\\vs\\workbench\\services\\extensions\\node\\extensionHostProcess.js:87:56450)\n\tat d (c:\\Users\\guize\\AppData\\Local\\Programs\\Microsoft VS Code\\resources\\app\\extensions\\ipynb\\dist\\ipynbMain.js:1:139047)\n\tat l (c:\\Users\\guize\\AppData\\Local\\Programs\\Microsoft VS Code\\resources\\app\\extensions\\ipynb\\dist\\ipynbMain.js:1:139713)\n\tat p (c:\\Users\\guize\\AppData\\Local\\Programs\\Microsoft VS Code\\resources\\app\\extensions\\ipynb\\dist\\ipynbMain.js:1:140218)\n\tat Array.map (<anonymous>)\n\tat c:\\Users\\guize\\AppData\\Local\\Programs\\Microsoft VS Code\\resources\\app\\extensions\\ipynb\\dist\\ipynbMain.js:1:141404\n\tat c:\\Users\\guize\\AppData\\Local\\Programs\\Microsoft VS Code\\resources\\app\\extensions\\ipynb\\dist\\ipynbMain.js:1:141646\n\tat c:\\Users\\guize\\AppData\\Local\\Programs\\Microsoft VS Code\\resources\\app\\extensions\\ipynb\\dist\\ipynbMain.js:1:141653\n\tat Array.map (<anonymous>)\n\tat e.jupyterNotebookModelToNotebookData (c:\\Users\\guize\\AppData\\Local\\Programs\\Microsoft VS Code\\resources\\app\\extensions\\ipynb\\dist\\ipynbMain.js:1:140962)\n\tat e.NotebookSerializer.deserializeNotebook (c:\\Users\\guize\\AppData\\Local\\Programs\\Microsoft VS Code\\resources\\app\\extensions\\ipynb\\dist\\ipynbMain.js:1:142865)\n\tat P.$dataToNotebook (c:\\Users\\guize\\AppData\\Local\\Programs\\Microsoft VS Code\\resources\\app\\out\\vs\\workbench\\services\\extensions\\node\\extensionHostProcess.js:94:214167)\n\tat i._doInvokeHandler (c:\\Users\\guize\\AppData\\Local\\Programs\\Microsoft VS Code\\resources\\app\\out\\vs\\workbench\\services\\extensions\\node\\extensionHostProcess.js:98:13543)\n\tat i._invokeHandler (c:\\Users\\guize\\AppData\\Local\\Programs\\Microsoft VS Code\\resources\\app\\out\\vs\\workbench\\services\\extensions\\node\\extensionHostProcess.js:98:13227)\n\tat i._receiveRequest (c:\\Users\\guize\\AppData\\Local\\Programs\\Microsoft VS Code\\resources\\app\\out\\vs\\workbench\\services\\extensions\\node\\extensionHostProcess.js:98:11838)\n\tat i._receiveOneMessage (c:\\Users\\guize\\AppData\\Local\\Programs\\Microsoft VS Code\\resources\\app\\out\\vs\\workbench\\services\\extensions\\node\\extensionHostProcess.js:98:10766)\n\tat c:\\Users\\guize\\AppData\\Local\\Programs\\Microsoft VS Code\\resources\\app\\out\\vs\\workbench\\services\\extensions\\node\\extensionHostProcess.js:98:8663\n\tat c.fire (c:\\Users\\guize\\AppData\\Local\\Programs\\Microsoft VS Code\\resources\\app\\out\\vs\\workbench\\services\\extensions\\node\\extensionHostProcess.js:66:1712)\n\tat l.fire (c:\\Users\\guize\\AppData\\Local\\Programs\\Microsoft VS Code\\resources\\app\\out\\vs\\workbench\\services\\extensions\\node\\extensionHostProcess.js:74:15781)\n\tat c:\\Users\\guize\\AppData\\Local\\Programs\\Microsoft VS Code\\resources\\app\\out\\vs\\workbench\\services\\extensions\\node\\extensionHostProcess.js:113:30187\n\tat c.fire (c:\\Users\\guize\\AppData\\Local\\Programs\\Microsoft VS Code\\resources\\app\\out\\vs\\workbench\\services\\extensions\\node\\extensionHostProcess.js:66:1712)\n\tat l.fire (c:\\Users\\guize\\AppData\\Local\\Programs\\Microsoft VS Code\\resources\\app\\out\\vs\\workbench\\services\\extensions\\node\\extensionHostProcess.js:74:15781)\n\tat r._receiveMessage (c:\\Users\\guize\\AppData\\Local\\Programs\\Microsoft VS Code\\resources\\app\\out\\vs\\workbench\\services\\extensions\\node\\extensionHostProcess.js:74:21051)\n\tat c:\\Users\\guize\\AppData\\Local\\Programs\\Microsoft VS Code\\resources\\app\\out\\vs\\workbench\\services\\extensions\\node\\extensionHostProcess.js:74:17929\n\tat c.fire (c:\\Users\\guize\\AppData\\Local\\Programs\\Microsoft VS Code\\resources\\app\\out\\vs\\workbench\\services\\extensions\\node\\extensionHostProcess.js:66:1712)\n\tat v.acceptChunk (c:\\Users\\guize\\AppData\\Local\\Programs\\Microsoft VS Code\\resources\\app\\out\\vs\\workbench\\services\\extensions\\node\\extensionHostProcess.js:74:13142)\n\tat c:\\Users\\guize\\AppData\\Local\\Programs\\Microsoft VS Code\\resources\\app\\out\\vs\\workbench\\services\\extensions\\node\\extensionHostProcess.js:74:12490\n\tat Socket.w (c:\\Users\\guize\\AppData\\Local\\Programs\\Microsoft VS Code\\resources\\app\\out\\vs\\workbench\\services\\extensions\\node\\extensionHostProcess.js:113:13350)\n\tat Socket.emit (events.js:315:20)\n\tat addChunk (internal/streams/readable.js:309:12)\n\tat readableAddChunk (internal/streams/readable.js:284:9)\n\tat Socket.Readable.push (internal/streams/readable.js:223:10)\n\tat Pipe.onStreamRead (internal/stream_base_commons.js:188:23)"
      }
     },
     "metadata": {}
    }
   ],
   "metadata": {}
  },
  {
   "cell_type": "markdown",
   "source": [
    "## 7) Análise do uso de medicamento\n",
    "\n",
    "* Considere que um médico quer fazer responder a seguinte questão: pessoas tendem a usar mais medicamentos conforme ficam mais velhas?\n",
    "* Escreva uma query que ajude o médico a realizar esta análise."
   ],
   "metadata": {}
  },
  {
   "cell_type": "code",
   "execution_count": 24,
   "source": [
    "DROP TABLE IF EXISTS MedPorIdade;\r\n",
    "CREATE VIEW MedPorIdade AS SELECT Person.Id, Person.Age, COUNT(DrugUse.DrugCode) AS Meds \r\n",
    "    FROM Drug, DrugUse, Person \r\n",
    "    Where Person.Id=DrugUse.PersonId AND DrugUse.DrugCode=Drug.Code \r\n",
    "    GROUP BY (Person.Id);\r\n",
    "\r\n",
    "SELECT Age, AVG(Meds) \r\n",
    "    FROM MedPorIdade \r\n",
    "    GROUP BY(Age)"
   ],
   "outputs": [
    {
     "output_type": "display_data",
     "data": {
      "application/vnd.jupyter.widget-view+json": {
       "model_id": "b2103c3d-e533-46ea-9e1e-5a404d3d8d36",
       "version_major": 2,
       "version_minor": 0
      },
      "application/vnd.code.notebook.error": {
       "name": "Error",
       "message": "INVALID mime type: method. Must be in the format \"type/subtype[;optionalparameter]\"",
       "stack": "Error: INVALID mime type: method. Must be in the format \"type/subtype[;optionalparameter]\"\n\tat new Tt (c:\\Users\\guize\\AppData\\Local\\Programs\\Microsoft VS Code\\resources\\app\\out\\vs\\workbench\\services\\extensions\\node\\extensionHostProcess.js:87:55799)\n\tat Function.text (c:\\Users\\guize\\AppData\\Local\\Programs\\Microsoft VS Code\\resources\\app\\out\\vs\\workbench\\services\\extensions\\node\\extensionHostProcess.js:87:56450)\n\tat d (c:\\Users\\guize\\AppData\\Local\\Programs\\Microsoft VS Code\\resources\\app\\extensions\\ipynb\\dist\\ipynbMain.js:1:139047)\n\tat l (c:\\Users\\guize\\AppData\\Local\\Programs\\Microsoft VS Code\\resources\\app\\extensions\\ipynb\\dist\\ipynbMain.js:1:139713)\n\tat p (c:\\Users\\guize\\AppData\\Local\\Programs\\Microsoft VS Code\\resources\\app\\extensions\\ipynb\\dist\\ipynbMain.js:1:140218)\n\tat Array.map (<anonymous>)\n\tat c:\\Users\\guize\\AppData\\Local\\Programs\\Microsoft VS Code\\resources\\app\\extensions\\ipynb\\dist\\ipynbMain.js:1:141404\n\tat c:\\Users\\guize\\AppData\\Local\\Programs\\Microsoft VS Code\\resources\\app\\extensions\\ipynb\\dist\\ipynbMain.js:1:141646\n\tat c:\\Users\\guize\\AppData\\Local\\Programs\\Microsoft VS Code\\resources\\app\\extensions\\ipynb\\dist\\ipynbMain.js:1:141653\n\tat Array.map (<anonymous>)\n\tat e.jupyterNotebookModelToNotebookData (c:\\Users\\guize\\AppData\\Local\\Programs\\Microsoft VS Code\\resources\\app\\extensions\\ipynb\\dist\\ipynbMain.js:1:140962)\n\tat e.NotebookSerializer.deserializeNotebook (c:\\Users\\guize\\AppData\\Local\\Programs\\Microsoft VS Code\\resources\\app\\extensions\\ipynb\\dist\\ipynbMain.js:1:142865)\n\tat P.$dataToNotebook (c:\\Users\\guize\\AppData\\Local\\Programs\\Microsoft VS Code\\resources\\app\\out\\vs\\workbench\\services\\extensions\\node\\extensionHostProcess.js:94:214167)\n\tat i._doInvokeHandler (c:\\Users\\guize\\AppData\\Local\\Programs\\Microsoft VS Code\\resources\\app\\out\\vs\\workbench\\services\\extensions\\node\\extensionHostProcess.js:98:13543)\n\tat i._invokeHandler (c:\\Users\\guize\\AppData\\Local\\Programs\\Microsoft VS Code\\resources\\app\\out\\vs\\workbench\\services\\extensions\\node\\extensionHostProcess.js:98:13227)\n\tat i._receiveRequest (c:\\Users\\guize\\AppData\\Local\\Programs\\Microsoft VS Code\\resources\\app\\out\\vs\\workbench\\services\\extensions\\node\\extensionHostProcess.js:98:11838)\n\tat i._receiveOneMessage (c:\\Users\\guize\\AppData\\Local\\Programs\\Microsoft VS Code\\resources\\app\\out\\vs\\workbench\\services\\extensions\\node\\extensionHostProcess.js:98:10766)\n\tat c:\\Users\\guize\\AppData\\Local\\Programs\\Microsoft VS Code\\resources\\app\\out\\vs\\workbench\\services\\extensions\\node\\extensionHostProcess.js:98:8663\n\tat c.fire (c:\\Users\\guize\\AppData\\Local\\Programs\\Microsoft VS Code\\resources\\app\\out\\vs\\workbench\\services\\extensions\\node\\extensionHostProcess.js:66:1712)\n\tat l.fire (c:\\Users\\guize\\AppData\\Local\\Programs\\Microsoft VS Code\\resources\\app\\out\\vs\\workbench\\services\\extensions\\node\\extensionHostProcess.js:74:15781)\n\tat c:\\Users\\guize\\AppData\\Local\\Programs\\Microsoft VS Code\\resources\\app\\out\\vs\\workbench\\services\\extensions\\node\\extensionHostProcess.js:113:30187\n\tat c.fire (c:\\Users\\guize\\AppData\\Local\\Programs\\Microsoft VS Code\\resources\\app\\out\\vs\\workbench\\services\\extensions\\node\\extensionHostProcess.js:66:1712)\n\tat l.fire (c:\\Users\\guize\\AppData\\Local\\Programs\\Microsoft VS Code\\resources\\app\\out\\vs\\workbench\\services\\extensions\\node\\extensionHostProcess.js:74:15781)\n\tat r._receiveMessage (c:\\Users\\guize\\AppData\\Local\\Programs\\Microsoft VS Code\\resources\\app\\out\\vs\\workbench\\services\\extensions\\node\\extensionHostProcess.js:74:21051)\n\tat c:\\Users\\guize\\AppData\\Local\\Programs\\Microsoft VS Code\\resources\\app\\out\\vs\\workbench\\services\\extensions\\node\\extensionHostProcess.js:74:17929\n\tat c.fire (c:\\Users\\guize\\AppData\\Local\\Programs\\Microsoft VS Code\\resources\\app\\out\\vs\\workbench\\services\\extensions\\node\\extensionHostProcess.js:66:1712)\n\tat v.acceptChunk (c:\\Users\\guize\\AppData\\Local\\Programs\\Microsoft VS Code\\resources\\app\\out\\vs\\workbench\\services\\extensions\\node\\extensionHostProcess.js:74:13142)\n\tat c:\\Users\\guize\\AppData\\Local\\Programs\\Microsoft VS Code\\resources\\app\\out\\vs\\workbench\\services\\extensions\\node\\extensionHostProcess.js:74:12490\n\tat Socket.w (c:\\Users\\guize\\AppData\\Local\\Programs\\Microsoft VS Code\\resources\\app\\out\\vs\\workbench\\services\\extensions\\node\\extensionHostProcess.js:113:13350)\n\tat Socket.emit (events.js:315:20)\n\tat addChunk (internal/streams/readable.js:309:12)\n\tat readableAddChunk (internal/streams/readable.js:284:9)\n\tat Socket.Readable.push (internal/streams/readable.js:223:10)\n\tat Pipe.onStreamRead (internal/stream_base_commons.js:188:23)"
      }
     },
     "metadata": {}
    }
   ],
   "metadata": {}
  },
  {
   "cell_type": "markdown",
   "source": [
    "# Navegando por Hierarquias\n",
    "\n",
    "A seguir exercícios envolvendo navegação por hierarquias."
   ],
   "metadata": {}
  },
  {
   "cell_type": "markdown",
   "source": [
    "# Marcadores e Taxonomia\n",
    "\n",
    "Considere o modelo para `Marcadores` e `Taxonomia`:\n",
    "\n",
    "![UML](marcadores-taxonomia-uml.png)\n",
    "\n",
    "![Relacional](marcadores-taxonomia-er.png)\n",
    "\n",
    "Considere as sentenças SQL a seguir para montar as tabelas de `Marcadores` e `Taxonomia`:"
   ],
   "metadata": {}
  },
  {
   "cell_type": "code",
   "execution_count": 4,
   "source": [
    "DROP TABLE IF EXISTS Taxonomia;\r\n",
    "DROP TABLE IF EXISTS Marcadores;\r\n",
    "\r\n",
    "CREATE TABLE Taxonomia (\r\n",
    "  Categoria VARCHAR(50) NOT NULL,\r\n",
    "  Superior  VARCHAR(50),\r\n",
    "  PRIMARY KEY(Categoria),\r\n",
    "  FOREIGN KEY(Superior)\r\n",
    "    REFERENCES Taxonomia(Categoria)\r\n",
    "      ON DELETE NO ACTION\r\n",
    "      ON UPDATE CASCADE\r\n",
    ");\r\n",
    "\r\n",
    "CREATE TABLE Marcadores (\r\n",
    "  Titulo VARCHAR(50) NOT NULL,\r\n",
    "  Endereco VARCHAR(80) NOT NULL,\r\n",
    "  Acessos INTEGER,\r\n",
    "  Categoria VARCHAR(50) NOT NULL,\r\n",
    "  PRIMARY KEY(Titulo),\r\n",
    "  FOREIGN KEY(Categoria)\r\n",
    "    REFERENCES Taxonomia(Categoria)\r\n",
    "      ON DELETE NO ACTION\r\n",
    "      ON UPDATE CASCADE\r\n",
    ");"
   ],
   "outputs": [],
   "metadata": {}
  },
  {
   "cell_type": "markdown",
   "source": [
    "As tabelas são preenchidas com as seguintes tuplas:"
   ],
   "metadata": {}
  },
  {
   "cell_type": "code",
   "execution_count": 5,
   "source": [
    "INSERT INTO Taxonomia VALUES ('Geral', NULL);\r\n",
    "INSERT INTO Taxonomia VALUES ('Serviços', 'Geral');\r\n",
    "INSERT INTO Taxonomia VALUES ('Acadêmico', 'Geral');\r\n",
    "INSERT INTO Taxonomia VALUES ('Relacionamento', 'Geral');\r\n",
    "INSERT INTO Taxonomia VALUES ('Busca', 'Serviços');\r\n",
    "INSERT INTO Taxonomia VALUES ('Portal', 'Serviços');\r\n",
    "INSERT INTO Taxonomia VALUES ('Mail', 'Serviços');\r\n",
    "INSERT INTO Taxonomia VALUES ('Vendas', 'Serviços');\r\n",
    "INSERT INTO Taxonomia VALUES ('Universidade', 'Acadêmico');\r\n",
    "INSERT INTO Taxonomia VALUES ('CG', 'Acadêmico');\r\n",
    "INSERT INTO Taxonomia VALUES ('Sociedade', 'Acadêmico');\r\n",
    "INSERT INTO Taxonomia VALUES ('Rede Social', 'Relacionamento');\r\n",
    "INSERT INTO Taxonomia VALUES ('Marketplace', 'Vendas');\r\n",
    "INSERT INTO Taxonomia VALUES ('Loja', 'Vendas');\r\n",
    "INSERT INTO Taxonomia VALUES ('Notícias', 'Portal');\r\n",
    "INSERT INTO Taxonomia VALUES ('Agregador', 'Portal');\r\n",
    "\r\n",
    "INSERT INTO Marcadores VALUES ('Terra', 'http://www.terra.com.br', 295, 'Portal');\r\n",
    "INSERT INTO Marcadores VALUES ('POVRay', 'http://www.povray.org', 2, 'CG');\r\n",
    "INSERT INTO Marcadores VALUES ('SBC', 'http://www.sbc.org.br', 26, 'Sociedade');\r\n",
    "INSERT INTO Marcadores VALUES ('Correios', 'http://www.correios.com.br', 45, 'Serviços');\r\n",
    "INSERT INTO Marcadores VALUES ('GMail', 'http://www.gmail.com', 296, 'Mail');\r\n",
    "INSERT INTO Marcadores VALUES ('Google', 'http://www.google.com', 1590, 'Busca');\r\n",
    "INSERT INTO Marcadores VALUES ('Yahoo', 'http://www.yahoo.com', 134, 'Serviços');\r\n",
    "INSERT INTO Marcadores VALUES ('Orkut', 'http://www.orkut.com', 45, 'Rede Social');\r\n",
    "INSERT INTO Marcadores VALUES ('iBahia', 'http://www.ibahia.com', 3, 'Portal');\r\n",
    "INSERT INTO Marcadores VALUES ('Submarino', 'http://www.submarino.com.br', 320, 'Loja');\r\n",
    "INSERT INTO Marcadores VALUES ('Amazon', 'https://www.amazon.com.br', 410, 'Marketplace');\r\n",
    "INSERT INTO Marcadores VALUES ('Americanas', 'https://www.americanas.com.br', 320, 'Loja');\r\n",
    "INSERT INTO Marcadores VALUES ('Mercado Livre', 'https://www.mercadolivre.com.br', 500, 'Marketplace');\r\n",
    "INSERT INTO Marcadores VALUES ('G1', 'https://g1.globo.com', 1200, 'Notícias');\r\n",
    "INSERT INTO Marcadores VALUES ('Folha', 'https://www.folha.uol.com.br', 850, 'Notícias');\r\n",
    "INSERT INTO Marcadores VALUES ('Google News', 'https://news.google.com', 900, 'Agregador');\r\n",
    "INSERT INTO Marcadores VALUES ('Flipboard', 'https://flipboard.com', 950, 'Agregador');"
   ],
   "outputs": [],
   "metadata": {}
  },
  {
   "cell_type": "markdown",
   "source": [
    "Conteúdo da tabela `Taxonomia`:"
   ],
   "metadata": {}
  },
  {
   "cell_type": "code",
   "execution_count": 7,
   "source": [
    "SELECT * FROM Taxonomia;"
   ],
   "outputs": [
    {
     "output_type": "display_data",
     "data": {
      "application/vnd.jupyter.widget-view+json": {
       "model_id": "802a3ec8-d869-4461-a9c0-1d1dcfb946b9",
       "version_major": 2,
       "version_minor": 0
      },
      "application/vnd.code.notebook.error": {
       "name": "Error",
       "message": "INVALID mime type: method. Must be in the format \"type/subtype[;optionalparameter]\"",
       "stack": "Error: INVALID mime type: method. Must be in the format \"type/subtype[;optionalparameter]\"\n\tat new Tt (c:\\Users\\guize\\AppData\\Local\\Programs\\Microsoft VS Code\\resources\\app\\out\\vs\\workbench\\services\\extensions\\node\\extensionHostProcess.js:87:55799)\n\tat Function.text (c:\\Users\\guize\\AppData\\Local\\Programs\\Microsoft VS Code\\resources\\app\\out\\vs\\workbench\\services\\extensions\\node\\extensionHostProcess.js:87:56450)\n\tat d (c:\\Users\\guize\\AppData\\Local\\Programs\\Microsoft VS Code\\resources\\app\\extensions\\ipynb\\dist\\ipynbMain.js:1:139047)\n\tat l (c:\\Users\\guize\\AppData\\Local\\Programs\\Microsoft VS Code\\resources\\app\\extensions\\ipynb\\dist\\ipynbMain.js:1:139713)\n\tat p (c:\\Users\\guize\\AppData\\Local\\Programs\\Microsoft VS Code\\resources\\app\\extensions\\ipynb\\dist\\ipynbMain.js:1:140218)\n\tat Array.map (<anonymous>)\n\tat c:\\Users\\guize\\AppData\\Local\\Programs\\Microsoft VS Code\\resources\\app\\extensions\\ipynb\\dist\\ipynbMain.js:1:141404\n\tat c:\\Users\\guize\\AppData\\Local\\Programs\\Microsoft VS Code\\resources\\app\\extensions\\ipynb\\dist\\ipynbMain.js:1:141646\n\tat c:\\Users\\guize\\AppData\\Local\\Programs\\Microsoft VS Code\\resources\\app\\extensions\\ipynb\\dist\\ipynbMain.js:1:141653\n\tat Array.map (<anonymous>)\n\tat e.jupyterNotebookModelToNotebookData (c:\\Users\\guize\\AppData\\Local\\Programs\\Microsoft VS Code\\resources\\app\\extensions\\ipynb\\dist\\ipynbMain.js:1:140962)\n\tat e.NotebookSerializer.deserializeNotebook (c:\\Users\\guize\\AppData\\Local\\Programs\\Microsoft VS Code\\resources\\app\\extensions\\ipynb\\dist\\ipynbMain.js:1:142865)\n\tat P.$dataToNotebook (c:\\Users\\guize\\AppData\\Local\\Programs\\Microsoft VS Code\\resources\\app\\out\\vs\\workbench\\services\\extensions\\node\\extensionHostProcess.js:94:214167)\n\tat i._doInvokeHandler (c:\\Users\\guize\\AppData\\Local\\Programs\\Microsoft VS Code\\resources\\app\\out\\vs\\workbench\\services\\extensions\\node\\extensionHostProcess.js:98:13543)\n\tat i._invokeHandler (c:\\Users\\guize\\AppData\\Local\\Programs\\Microsoft VS Code\\resources\\app\\out\\vs\\workbench\\services\\extensions\\node\\extensionHostProcess.js:98:13227)\n\tat i._receiveRequest (c:\\Users\\guize\\AppData\\Local\\Programs\\Microsoft VS Code\\resources\\app\\out\\vs\\workbench\\services\\extensions\\node\\extensionHostProcess.js:98:11838)\n\tat i._receiveOneMessage (c:\\Users\\guize\\AppData\\Local\\Programs\\Microsoft VS Code\\resources\\app\\out\\vs\\workbench\\services\\extensions\\node\\extensionHostProcess.js:98:10766)\n\tat c:\\Users\\guize\\AppData\\Local\\Programs\\Microsoft VS Code\\resources\\app\\out\\vs\\workbench\\services\\extensions\\node\\extensionHostProcess.js:98:8663\n\tat c.fire (c:\\Users\\guize\\AppData\\Local\\Programs\\Microsoft VS Code\\resources\\app\\out\\vs\\workbench\\services\\extensions\\node\\extensionHostProcess.js:66:1712)\n\tat l.fire (c:\\Users\\guize\\AppData\\Local\\Programs\\Microsoft VS Code\\resources\\app\\out\\vs\\workbench\\services\\extensions\\node\\extensionHostProcess.js:74:15781)\n\tat c:\\Users\\guize\\AppData\\Local\\Programs\\Microsoft VS Code\\resources\\app\\out\\vs\\workbench\\services\\extensions\\node\\extensionHostProcess.js:113:30187\n\tat c.fire (c:\\Users\\guize\\AppData\\Local\\Programs\\Microsoft VS Code\\resources\\app\\out\\vs\\workbench\\services\\extensions\\node\\extensionHostProcess.js:66:1712)\n\tat l.fire (c:\\Users\\guize\\AppData\\Local\\Programs\\Microsoft VS Code\\resources\\app\\out\\vs\\workbench\\services\\extensions\\node\\extensionHostProcess.js:74:15781)\n\tat r._receiveMessage (c:\\Users\\guize\\AppData\\Local\\Programs\\Microsoft VS Code\\resources\\app\\out\\vs\\workbench\\services\\extensions\\node\\extensionHostProcess.js:74:21051)\n\tat c:\\Users\\guize\\AppData\\Local\\Programs\\Microsoft VS Code\\resources\\app\\out\\vs\\workbench\\services\\extensions\\node\\extensionHostProcess.js:74:17929\n\tat c.fire (c:\\Users\\guize\\AppData\\Local\\Programs\\Microsoft VS Code\\resources\\app\\out\\vs\\workbench\\services\\extensions\\node\\extensionHostProcess.js:66:1712)\n\tat v.acceptChunk (c:\\Users\\guize\\AppData\\Local\\Programs\\Microsoft VS Code\\resources\\app\\out\\vs\\workbench\\services\\extensions\\node\\extensionHostProcess.js:74:13142)\n\tat c:\\Users\\guize\\AppData\\Local\\Programs\\Microsoft VS Code\\resources\\app\\out\\vs\\workbench\\services\\extensions\\node\\extensionHostProcess.js:74:12490\n\tat Socket.w (c:\\Users\\guize\\AppData\\Local\\Programs\\Microsoft VS Code\\resources\\app\\out\\vs\\workbench\\services\\extensions\\node\\extensionHostProcess.js:113:13350)\n\tat Socket.emit (events.js:315:20)\n\tat addChunk (internal/streams/readable.js:309:12)\n\tat readableAddChunk (internal/streams/readable.js:284:9)\n\tat Socket.Readable.push (internal/streams/readable.js:223:10)\n\tat Pipe.onStreamRead (internal/stream_base_commons.js:188:23)"
      }
     },
     "metadata": {}
    }
   ],
   "metadata": {}
  },
  {
   "cell_type": "markdown",
   "source": [
    "Conteúdo da tabela `Marcadores`:"
   ],
   "metadata": {}
  },
  {
   "cell_type": "code",
   "execution_count": 8,
   "source": [
    "SELECT * FROM Marcadores;"
   ],
   "outputs": [
    {
     "output_type": "display_data",
     "data": {
      "application/vnd.jupyter.widget-view+json": {
       "model_id": "c469081f-4bb0-4b53-938e-e2ea392bc8cb",
       "version_major": 2,
       "version_minor": 0
      },
      "application/vnd.code.notebook.error": {
       "name": "Error",
       "message": "INVALID mime type: method. Must be in the format \"type/subtype[;optionalparameter]\"",
       "stack": "Error: INVALID mime type: method. Must be in the format \"type/subtype[;optionalparameter]\"\n\tat new Tt (c:\\Users\\guize\\AppData\\Local\\Programs\\Microsoft VS Code\\resources\\app\\out\\vs\\workbench\\services\\extensions\\node\\extensionHostProcess.js:87:55799)\n\tat Function.text (c:\\Users\\guize\\AppData\\Local\\Programs\\Microsoft VS Code\\resources\\app\\out\\vs\\workbench\\services\\extensions\\node\\extensionHostProcess.js:87:56450)\n\tat d (c:\\Users\\guize\\AppData\\Local\\Programs\\Microsoft VS Code\\resources\\app\\extensions\\ipynb\\dist\\ipynbMain.js:1:139047)\n\tat l (c:\\Users\\guize\\AppData\\Local\\Programs\\Microsoft VS Code\\resources\\app\\extensions\\ipynb\\dist\\ipynbMain.js:1:139713)\n\tat p (c:\\Users\\guize\\AppData\\Local\\Programs\\Microsoft VS Code\\resources\\app\\extensions\\ipynb\\dist\\ipynbMain.js:1:140218)\n\tat Array.map (<anonymous>)\n\tat c:\\Users\\guize\\AppData\\Local\\Programs\\Microsoft VS Code\\resources\\app\\extensions\\ipynb\\dist\\ipynbMain.js:1:141404\n\tat c:\\Users\\guize\\AppData\\Local\\Programs\\Microsoft VS Code\\resources\\app\\extensions\\ipynb\\dist\\ipynbMain.js:1:141646\n\tat c:\\Users\\guize\\AppData\\Local\\Programs\\Microsoft VS Code\\resources\\app\\extensions\\ipynb\\dist\\ipynbMain.js:1:141653\n\tat Array.map (<anonymous>)\n\tat e.jupyterNotebookModelToNotebookData (c:\\Users\\guize\\AppData\\Local\\Programs\\Microsoft VS Code\\resources\\app\\extensions\\ipynb\\dist\\ipynbMain.js:1:140962)\n\tat e.NotebookSerializer.deserializeNotebook (c:\\Users\\guize\\AppData\\Local\\Programs\\Microsoft VS Code\\resources\\app\\extensions\\ipynb\\dist\\ipynbMain.js:1:142865)\n\tat P.$dataToNotebook (c:\\Users\\guize\\AppData\\Local\\Programs\\Microsoft VS Code\\resources\\app\\out\\vs\\workbench\\services\\extensions\\node\\extensionHostProcess.js:94:214167)\n\tat i._doInvokeHandler (c:\\Users\\guize\\AppData\\Local\\Programs\\Microsoft VS Code\\resources\\app\\out\\vs\\workbench\\services\\extensions\\node\\extensionHostProcess.js:98:13543)\n\tat i._invokeHandler (c:\\Users\\guize\\AppData\\Local\\Programs\\Microsoft VS Code\\resources\\app\\out\\vs\\workbench\\services\\extensions\\node\\extensionHostProcess.js:98:13227)\n\tat i._receiveRequest (c:\\Users\\guize\\AppData\\Local\\Programs\\Microsoft VS Code\\resources\\app\\out\\vs\\workbench\\services\\extensions\\node\\extensionHostProcess.js:98:11838)\n\tat i._receiveOneMessage (c:\\Users\\guize\\AppData\\Local\\Programs\\Microsoft VS Code\\resources\\app\\out\\vs\\workbench\\services\\extensions\\node\\extensionHostProcess.js:98:10766)\n\tat c:\\Users\\guize\\AppData\\Local\\Programs\\Microsoft VS Code\\resources\\app\\out\\vs\\workbench\\services\\extensions\\node\\extensionHostProcess.js:98:8663\n\tat c.fire (c:\\Users\\guize\\AppData\\Local\\Programs\\Microsoft VS Code\\resources\\app\\out\\vs\\workbench\\services\\extensions\\node\\extensionHostProcess.js:66:1712)\n\tat l.fire (c:\\Users\\guize\\AppData\\Local\\Programs\\Microsoft VS Code\\resources\\app\\out\\vs\\workbench\\services\\extensions\\node\\extensionHostProcess.js:74:15781)\n\tat c:\\Users\\guize\\AppData\\Local\\Programs\\Microsoft VS Code\\resources\\app\\out\\vs\\workbench\\services\\extensions\\node\\extensionHostProcess.js:113:30187\n\tat c.fire (c:\\Users\\guize\\AppData\\Local\\Programs\\Microsoft VS Code\\resources\\app\\out\\vs\\workbench\\services\\extensions\\node\\extensionHostProcess.js:66:1712)\n\tat l.fire (c:\\Users\\guize\\AppData\\Local\\Programs\\Microsoft VS Code\\resources\\app\\out\\vs\\workbench\\services\\extensions\\node\\extensionHostProcess.js:74:15781)\n\tat r._receiveMessage (c:\\Users\\guize\\AppData\\Local\\Programs\\Microsoft VS Code\\resources\\app\\out\\vs\\workbench\\services\\extensions\\node\\extensionHostProcess.js:74:21051)\n\tat c:\\Users\\guize\\AppData\\Local\\Programs\\Microsoft VS Code\\resources\\app\\out\\vs\\workbench\\services\\extensions\\node\\extensionHostProcess.js:74:17929\n\tat c.fire (c:\\Users\\guize\\AppData\\Local\\Programs\\Microsoft VS Code\\resources\\app\\out\\vs\\workbench\\services\\extensions\\node\\extensionHostProcess.js:66:1712)\n\tat v.acceptChunk (c:\\Users\\guize\\AppData\\Local\\Programs\\Microsoft VS Code\\resources\\app\\out\\vs\\workbench\\services\\extensions\\node\\extensionHostProcess.js:74:13142)\n\tat c:\\Users\\guize\\AppData\\Local\\Programs\\Microsoft VS Code\\resources\\app\\out\\vs\\workbench\\services\\extensions\\node\\extensionHostProcess.js:74:12490\n\tat Socket.w (c:\\Users\\guize\\AppData\\Local\\Programs\\Microsoft VS Code\\resources\\app\\out\\vs\\workbench\\services\\extensions\\node\\extensionHostProcess.js:113:13350)\n\tat Socket.emit (events.js:315:20)\n\tat addChunk (internal/streams/readable.js:309:12)\n\tat readableAddChunk (internal/streams/readable.js:284:9)\n\tat Socket.Readable.push (internal/streams/readable.js:223:10)\n\tat Pipe.onStreamRead (internal/stream_base_commons.js:188:23)"
      }
     },
     "metadata": {}
    }
   ],
   "metadata": {}
  },
  {
   "cell_type": "markdown",
   "source": [
    "## Tarefa 1\n",
    "\n",
    "Escreva em SQL uma consulta que retorne os marcadores da categoria `Serviços`, sem considerar as categorias subordinadas."
   ],
   "metadata": {}
  },
  {
   "cell_type": "code",
   "execution_count": 9,
   "source": [
    "SELECT * FROM Marcadores WHERE Categoria='Serviços'"
   ],
   "outputs": [
    {
     "output_type": "display_data",
     "data": {
      "application/vnd.jupyter.widget-view+json": {
       "model_id": "9e748683-9cc3-4c41-9481-29ba2cb63ea6",
       "version_major": 2,
       "version_minor": 0
      },
      "application/vnd.code.notebook.error": {
       "name": "Error",
       "message": "INVALID mime type: method. Must be in the format \"type/subtype[;optionalparameter]\"",
       "stack": "Error: INVALID mime type: method. Must be in the format \"type/subtype[;optionalparameter]\"\n\tat new Tt (c:\\Users\\guize\\AppData\\Local\\Programs\\Microsoft VS Code\\resources\\app\\out\\vs\\workbench\\services\\extensions\\node\\extensionHostProcess.js:87:55799)\n\tat Function.text (c:\\Users\\guize\\AppData\\Local\\Programs\\Microsoft VS Code\\resources\\app\\out\\vs\\workbench\\services\\extensions\\node\\extensionHostProcess.js:87:56450)\n\tat d (c:\\Users\\guize\\AppData\\Local\\Programs\\Microsoft VS Code\\resources\\app\\extensions\\ipynb\\dist\\ipynbMain.js:1:139047)\n\tat l (c:\\Users\\guize\\AppData\\Local\\Programs\\Microsoft VS Code\\resources\\app\\extensions\\ipynb\\dist\\ipynbMain.js:1:139713)\n\tat p (c:\\Users\\guize\\AppData\\Local\\Programs\\Microsoft VS Code\\resources\\app\\extensions\\ipynb\\dist\\ipynbMain.js:1:140218)\n\tat Array.map (<anonymous>)\n\tat c:\\Users\\guize\\AppData\\Local\\Programs\\Microsoft VS Code\\resources\\app\\extensions\\ipynb\\dist\\ipynbMain.js:1:141404\n\tat c:\\Users\\guize\\AppData\\Local\\Programs\\Microsoft VS Code\\resources\\app\\extensions\\ipynb\\dist\\ipynbMain.js:1:141646\n\tat c:\\Users\\guize\\AppData\\Local\\Programs\\Microsoft VS Code\\resources\\app\\extensions\\ipynb\\dist\\ipynbMain.js:1:141653\n\tat Array.map (<anonymous>)\n\tat e.jupyterNotebookModelToNotebookData (c:\\Users\\guize\\AppData\\Local\\Programs\\Microsoft VS Code\\resources\\app\\extensions\\ipynb\\dist\\ipynbMain.js:1:140962)\n\tat e.NotebookSerializer.deserializeNotebook (c:\\Users\\guize\\AppData\\Local\\Programs\\Microsoft VS Code\\resources\\app\\extensions\\ipynb\\dist\\ipynbMain.js:1:142865)\n\tat P.$dataToNotebook (c:\\Users\\guize\\AppData\\Local\\Programs\\Microsoft VS Code\\resources\\app\\out\\vs\\workbench\\services\\extensions\\node\\extensionHostProcess.js:94:214167)\n\tat i._doInvokeHandler (c:\\Users\\guize\\AppData\\Local\\Programs\\Microsoft VS Code\\resources\\app\\out\\vs\\workbench\\services\\extensions\\node\\extensionHostProcess.js:98:13543)\n\tat i._invokeHandler (c:\\Users\\guize\\AppData\\Local\\Programs\\Microsoft VS Code\\resources\\app\\out\\vs\\workbench\\services\\extensions\\node\\extensionHostProcess.js:98:13227)\n\tat i._receiveRequest (c:\\Users\\guize\\AppData\\Local\\Programs\\Microsoft VS Code\\resources\\app\\out\\vs\\workbench\\services\\extensions\\node\\extensionHostProcess.js:98:11838)\n\tat i._receiveOneMessage (c:\\Users\\guize\\AppData\\Local\\Programs\\Microsoft VS Code\\resources\\app\\out\\vs\\workbench\\services\\extensions\\node\\extensionHostProcess.js:98:10766)\n\tat c:\\Users\\guize\\AppData\\Local\\Programs\\Microsoft VS Code\\resources\\app\\out\\vs\\workbench\\services\\extensions\\node\\extensionHostProcess.js:98:8663\n\tat c.fire (c:\\Users\\guize\\AppData\\Local\\Programs\\Microsoft VS Code\\resources\\app\\out\\vs\\workbench\\services\\extensions\\node\\extensionHostProcess.js:66:1712)\n\tat l.fire (c:\\Users\\guize\\AppData\\Local\\Programs\\Microsoft VS Code\\resources\\app\\out\\vs\\workbench\\services\\extensions\\node\\extensionHostProcess.js:74:15781)\n\tat c:\\Users\\guize\\AppData\\Local\\Programs\\Microsoft VS Code\\resources\\app\\out\\vs\\workbench\\services\\extensions\\node\\extensionHostProcess.js:113:30187\n\tat c.fire (c:\\Users\\guize\\AppData\\Local\\Programs\\Microsoft VS Code\\resources\\app\\out\\vs\\workbench\\services\\extensions\\node\\extensionHostProcess.js:66:1712)\n\tat l.fire (c:\\Users\\guize\\AppData\\Local\\Programs\\Microsoft VS Code\\resources\\app\\out\\vs\\workbench\\services\\extensions\\node\\extensionHostProcess.js:74:15781)\n\tat r._receiveMessage (c:\\Users\\guize\\AppData\\Local\\Programs\\Microsoft VS Code\\resources\\app\\out\\vs\\workbench\\services\\extensions\\node\\extensionHostProcess.js:74:21051)\n\tat c:\\Users\\guize\\AppData\\Local\\Programs\\Microsoft VS Code\\resources\\app\\out\\vs\\workbench\\services\\extensions\\node\\extensionHostProcess.js:74:17929\n\tat c.fire (c:\\Users\\guize\\AppData\\Local\\Programs\\Microsoft VS Code\\resources\\app\\out\\vs\\workbench\\services\\extensions\\node\\extensionHostProcess.js:66:1712)\n\tat v.acceptChunk (c:\\Users\\guize\\AppData\\Local\\Programs\\Microsoft VS Code\\resources\\app\\out\\vs\\workbench\\services\\extensions\\node\\extensionHostProcess.js:74:13142)\n\tat c:\\Users\\guize\\AppData\\Local\\Programs\\Microsoft VS Code\\resources\\app\\out\\vs\\workbench\\services\\extensions\\node\\extensionHostProcess.js:74:12490\n\tat Socket.w (c:\\Users\\guize\\AppData\\Local\\Programs\\Microsoft VS Code\\resources\\app\\out\\vs\\workbench\\services\\extensions\\node\\extensionHostProcess.js:113:13350)\n\tat Socket.emit (events.js:315:20)\n\tat addChunk (internal/streams/readable.js:309:12)\n\tat readableAddChunk (internal/streams/readable.js:284:9)\n\tat Socket.Readable.push (internal/streams/readable.js:223:10)\n\tat Pipe.onStreamRead (internal/stream_base_commons.js:188:23)"
      }
     },
     "metadata": {}
    }
   ],
   "metadata": {}
  },
  {
   "cell_type": "markdown",
   "source": [
    "## Tarefa 2\n",
    "\n",
    "Escreva em SQL uma consulta que retorne os marcadores da categoria `Serviços`, considerando as categorias subordinadas."
   ],
   "metadata": {}
  },
  {
   "cell_type": "code",
   "execution_count": 13,
   "source": [
    "DROP TABLE IF EXISTS Subcategoria1;\r\n",
    "DROP TABLE IF EXISTS Subcategoria2;\r\n",
    "\r\n",
    "CREATE VIEW Subcategoria1 AS SELECT Taxonomia.Categoria\r\n",
    "    FROM Taxonomia \r\n",
    "    WHERE Taxonomia.Superior='Serviços';\r\n",
    "\r\n",
    "CREATE VIEW Subcategoria2 AS SELECT Taxonomia.Categoria\r\n",
    "    FROM Taxonomia, Subcategoria1\r\n",
    "    WHERE Taxonomia.Superior=Subcategoria1.Categoria;\r\n",
    "    \r\n",
    "SELECT * FROM Marcadores \r\n",
    "    WHERE Categoria='Serviços'\r\n",
    "    OR Categoria IN (SELECT * FROM Subcategoria1 UNION SELECT * FROM Subcategoria2)\r\n",
    "\r\n"
   ],
   "outputs": [
    {
     "output_type": "display_data",
     "data": {
      "application/vnd.jupyter.widget-view+json": {
       "model_id": "cf12a4f2-79db-4569-ae0e-208fb2b8d704",
       "version_major": 2,
       "version_minor": 0
      },
      "application/vnd.code.notebook.error": {
       "name": "Error",
       "message": "INVALID mime type: method. Must be in the format \"type/subtype[;optionalparameter]\"",
       "stack": "Error: INVALID mime type: method. Must be in the format \"type/subtype[;optionalparameter]\"\n\tat new Tt (c:\\Users\\guize\\AppData\\Local\\Programs\\Microsoft VS Code\\resources\\app\\out\\vs\\workbench\\services\\extensions\\node\\extensionHostProcess.js:87:55799)\n\tat Function.text (c:\\Users\\guize\\AppData\\Local\\Programs\\Microsoft VS Code\\resources\\app\\out\\vs\\workbench\\services\\extensions\\node\\extensionHostProcess.js:87:56450)\n\tat d (c:\\Users\\guize\\AppData\\Local\\Programs\\Microsoft VS Code\\resources\\app\\extensions\\ipynb\\dist\\ipynbMain.js:1:139047)\n\tat l (c:\\Users\\guize\\AppData\\Local\\Programs\\Microsoft VS Code\\resources\\app\\extensions\\ipynb\\dist\\ipynbMain.js:1:139713)\n\tat p (c:\\Users\\guize\\AppData\\Local\\Programs\\Microsoft VS Code\\resources\\app\\extensions\\ipynb\\dist\\ipynbMain.js:1:140218)\n\tat Array.map (<anonymous>)\n\tat c:\\Users\\guize\\AppData\\Local\\Programs\\Microsoft VS Code\\resources\\app\\extensions\\ipynb\\dist\\ipynbMain.js:1:141404\n\tat c:\\Users\\guize\\AppData\\Local\\Programs\\Microsoft VS Code\\resources\\app\\extensions\\ipynb\\dist\\ipynbMain.js:1:141646\n\tat c:\\Users\\guize\\AppData\\Local\\Programs\\Microsoft VS Code\\resources\\app\\extensions\\ipynb\\dist\\ipynbMain.js:1:141653\n\tat Array.map (<anonymous>)\n\tat e.jupyterNotebookModelToNotebookData (c:\\Users\\guize\\AppData\\Local\\Programs\\Microsoft VS Code\\resources\\app\\extensions\\ipynb\\dist\\ipynbMain.js:1:140962)\n\tat e.NotebookSerializer.deserializeNotebook (c:\\Users\\guize\\AppData\\Local\\Programs\\Microsoft VS Code\\resources\\app\\extensions\\ipynb\\dist\\ipynbMain.js:1:142865)\n\tat P.$dataToNotebook (c:\\Users\\guize\\AppData\\Local\\Programs\\Microsoft VS Code\\resources\\app\\out\\vs\\workbench\\services\\extensions\\node\\extensionHostProcess.js:94:214167)\n\tat i._doInvokeHandler (c:\\Users\\guize\\AppData\\Local\\Programs\\Microsoft VS Code\\resources\\app\\out\\vs\\workbench\\services\\extensions\\node\\extensionHostProcess.js:98:13543)\n\tat i._invokeHandler (c:\\Users\\guize\\AppData\\Local\\Programs\\Microsoft VS Code\\resources\\app\\out\\vs\\workbench\\services\\extensions\\node\\extensionHostProcess.js:98:13227)\n\tat i._receiveRequest (c:\\Users\\guize\\AppData\\Local\\Programs\\Microsoft VS Code\\resources\\app\\out\\vs\\workbench\\services\\extensions\\node\\extensionHostProcess.js:98:11838)\n\tat i._receiveOneMessage (c:\\Users\\guize\\AppData\\Local\\Programs\\Microsoft VS Code\\resources\\app\\out\\vs\\workbench\\services\\extensions\\node\\extensionHostProcess.js:98:10766)\n\tat c:\\Users\\guize\\AppData\\Local\\Programs\\Microsoft VS Code\\resources\\app\\out\\vs\\workbench\\services\\extensions\\node\\extensionHostProcess.js:98:8663\n\tat c.fire (c:\\Users\\guize\\AppData\\Local\\Programs\\Microsoft VS Code\\resources\\app\\out\\vs\\workbench\\services\\extensions\\node\\extensionHostProcess.js:66:1712)\n\tat l.fire (c:\\Users\\guize\\AppData\\Local\\Programs\\Microsoft VS Code\\resources\\app\\out\\vs\\workbench\\services\\extensions\\node\\extensionHostProcess.js:74:15781)\n\tat c:\\Users\\guize\\AppData\\Local\\Programs\\Microsoft VS Code\\resources\\app\\out\\vs\\workbench\\services\\extensions\\node\\extensionHostProcess.js:113:30187\n\tat c.fire (c:\\Users\\guize\\AppData\\Local\\Programs\\Microsoft VS Code\\resources\\app\\out\\vs\\workbench\\services\\extensions\\node\\extensionHostProcess.js:66:1712)\n\tat l.fire (c:\\Users\\guize\\AppData\\Local\\Programs\\Microsoft VS Code\\resources\\app\\out\\vs\\workbench\\services\\extensions\\node\\extensionHostProcess.js:74:15781)\n\tat r._receiveMessage (c:\\Users\\guize\\AppData\\Local\\Programs\\Microsoft VS Code\\resources\\app\\out\\vs\\workbench\\services\\extensions\\node\\extensionHostProcess.js:74:21051)\n\tat c:\\Users\\guize\\AppData\\Local\\Programs\\Microsoft VS Code\\resources\\app\\out\\vs\\workbench\\services\\extensions\\node\\extensionHostProcess.js:74:17929\n\tat c.fire (c:\\Users\\guize\\AppData\\Local\\Programs\\Microsoft VS Code\\resources\\app\\out\\vs\\workbench\\services\\extensions\\node\\extensionHostProcess.js:66:1712)\n\tat v.acceptChunk (c:\\Users\\guize\\AppData\\Local\\Programs\\Microsoft VS Code\\resources\\app\\out\\vs\\workbench\\services\\extensions\\node\\extensionHostProcess.js:74:13142)\n\tat c:\\Users\\guize\\AppData\\Local\\Programs\\Microsoft VS Code\\resources\\app\\out\\vs\\workbench\\services\\extensions\\node\\extensionHostProcess.js:74:12490\n\tat Socket.w (c:\\Users\\guize\\AppData\\Local\\Programs\\Microsoft VS Code\\resources\\app\\out\\vs\\workbench\\services\\extensions\\node\\extensionHostProcess.js:113:13350)\n\tat Socket.emit (events.js:315:20)\n\tat addChunk (internal/streams/readable.js:309:12)\n\tat readableAddChunk (internal/streams/readable.js:284:9)\n\tat Socket.Readable.push (internal/streams/readable.js:223:10)\n\tat Pipe.onStreamRead (internal/stream_base_commons.js:188:23)"
      }
     },
     "metadata": {}
    }
   ],
   "metadata": {}
  }
 ],
 "metadata": {
  "kernelspec": {
   "display_name": "SQL",
   "language": "SQL",
   "name": "sql"
  },
  "language_info": {
   "codemirror_mode": "sql",
   "file_extension": ".sql",
   "mimetype": "",
   "name": "SQL",
   "nbconverter_exporter": "",
   "version": ""
  },
  "toc": {
   "base_numbering": 1,
   "nav_menu": {},
   "number_sections": false,
   "sideBar": false,
   "skip_h1_title": false,
   "title_cell": "Table of Contents",
   "title_sidebar": "Contents",
   "toc_cell": false,
   "toc_position": {},
   "toc_section_display": false,
   "toc_window_display": false
  }
 },
 "nbformat": 4,
 "nbformat_minor": 4
}